{
 "cells": [
  {
   "cell_type": "markdown",
   "id": "c6e07c4c-64e1-4b57-b8bd-aeca6385e292",
   "metadata": {},
   "source": [
    "# **Web Scraping**\n",
    "Web scraping is the process of automatically extracting data from websites. It allows you to collect and organize data from the web for analysis or other purposes.\n",
    "\n",
    "---\n",
    "\n",
    "## **Applications of Web Scraping**\n",
    "1. **Data Collection for Research**: Gathering data for academic or market research.\n",
    "2. **E-commerce**: Extracting product prices, reviews, or inventory details.\n",
    "3. **Competitor Analysis**: Tracking competitors' offerings and updates.\n",
    "4. **News Aggregation**: Collecting headlines or articles from news websites.\n",
    "5. **Social Media Insights**: Analyzing trends or user-generated content.\n",
    "\n",
    "---\n",
    "\n",
    "## **Basic Steps in Web Scraping**\n",
    "1. **Identify the Website**:\n",
    "   - Choose a website with the data you want to scrape.\n",
    "2. **Analyze the Website Structure**:\n",
    "   - Use browser tools (Inspect Element) to examine the HTML structure of the webpage.\n",
    "3. **Send an HTTP Request**:\n",
    "   - Use tools like Python's `requests` library to fetch the webpage's content.\n",
    "4. **Parse the HTML**:\n",
    "   - Use libraries like `BeautifulSoup` to extract specific data.\n",
    "5. **Store the Data**:\n",
    "   - Save the extracted data in a file (e.g., CSV, JSON) or a database.\n",
    "\n",
    "---\n",
    "\n",
    "## **Common Tools for Web Scraping**\n",
    "1. **Programming Languages**: Python is the most popular for web scraping.\n",
    "2. **Libraries**:\n",
    "   - `requests`: For sending HTTP requests to websites.\n",
    "   - `BeautifulSoup`: For parsing and extracting data from HTML.\n",
    "   - `pandas`: For storing and analyzing scraped data.\n",
    "   - `Selenium`: For handling JavaScript-heavy websites.\n",
    "\n",
    "---"
   ]
  },
  {
   "cell_type": "markdown",
   "id": "f7065377-20ce-48c7-adbc-0244acf99191",
   "metadata": {},
   "source": [
    "| **Status Code** | **Category**              | **Description**                                                                 |\n",
    "|------------------|---------------------------|---------------------------------------------------------------------------------|\n",
    "| **100**          | Informational Response   | Continue: The client can proceed with the request body.                        |\n",
    "| **101**          | Informational Response   | Switching Protocols: The server is switching protocols as requested.           |\n",
    "| **200**          | Success                  | OK: The request was successful, and the desired content was returned.          |\n",
    "| **201**          | Success                  | Created: The request was successful, and a new resource was created.           |\n",
    "| **204**          | Success                  | No Content: The server successfully processed the request, but no content returned. |\n",
    "| **301**          | Redirection              | Moved Permanently: The resource has been moved to a new URL permanently.        |\n",
    "| **302**          | Redirection              | Found: The resource is temporarily located at a different URL.                 |\n",
    "| **304**          | Redirection              | Not Modified: The resource has not been modified since the last request.       |\n",
    "| **400**          | Client Error             | Bad Request: The server could not understand the request due to invalid syntax.|\n",
    "| **401**          | Client Error             | Unauthorized: Authentication is required to access the resource.               |\n",
    "| **403**          | Client Error             | Forbidden: The server understands the request but refuses to authorize it.     |\n",
    "| **404**          | Client Error             | Not Found: The requested resource was not found on the server.                 |\n",
    "| **429**          | Client Error             | Too Many Requests: The client sent too many requests in a given time (rate-limiting). |\n",
    "| **500**          | Server Error             | Internal Server Error: The server encountered an unexpected error.             |\n",
    "| **502**          | Server Error             | Bad Gateway: The server received an invalid response from an upstream server.  |\n",
    "| **503**          | Server Error             | Service Unavailable: The server is temporarily unavailable due to maintenance or overload. |\n",
    "| **504**          | Server Error             | Gateway Timeout: The server did not receive a timely response from an upstream server. |\n"
   ]
  },
  {
   "cell_type": "markdown",
   "id": "5aaf4a21-c259-4902-a10d-9aea2fc83738",
   "metadata": {},
   "source": [
    "## **Movie Scraping**\n",
    "This project helps in scraping the movies from a particular website"
   ]
  },
  {
   "cell_type": "code",
   "execution_count": 4,
   "id": "4f2c223e-2ab7-4f63-88e1-461ffbdade94",
   "metadata": {},
   "outputs": [],
   "source": [
    "# Importing the libraries\n",
    "import requests\n",
    "import pandas as pd\n",
    "from bs4 import BeautifulSoup"
   ]
  },
  {
   "cell_type": "code",
   "execution_count": 5,
   "id": "771b4d39-44d4-4f9b-997a-668847bf7836",
   "metadata": {},
   "outputs": [
    {
     "data": {
      "text/plain": [
       "'https://www.imdb.com/search/title/?groups=top_250'"
      ]
     },
     "execution_count": 5,
     "metadata": {},
     "output_type": "execute_result"
    }
   ],
   "source": [
    "url = 'https://www.imdb.com/search/title/?groups=top_250'\n",
    "url"
   ]
  },
  {
   "cell_type": "code",
   "execution_count": 6,
   "id": "01b8b3ce-1255-4fd6-ab68-66b12400af49",
   "metadata": {},
   "outputs": [
    {
     "data": {
      "text/plain": [
       "403"
      ]
     },
     "execution_count": 6,
     "metadata": {},
     "output_type": "execute_result"
    }
   ],
   "source": [
    "resp = requests.get(url)\n",
    "resp.status_code"
   ]
  },
  {
   "cell_type": "code",
   "execution_count": 7,
   "id": "254b2729-ca16-4aa3-b03b-9530d84b894a",
   "metadata": {},
   "outputs": [],
   "source": [
    "# Mimic request from device\n",
    "with requests.Session() as se:\n",
    "    se.headers = {\n",
    "        \"User-Agent\": \"Mozilla/5.0 (Macintosh; Intel Mac OS X 10_15_7) AppleWebKit/605.1.15 (KHTML, like Gecko) Version/17.6 Safari/605.1.15\",\n",
    "        \"Accept-Encoding\": \"gzip, deflate, br\",\n",
    "        \"Accept\": \"text/html,application/xhtml+xml,application/xml;q=0.9,*/*;q=0.8\",\n",
    "        \"Accept-Language\": \"en\"\n",
    "    }"
   ]
  },
  {
   "cell_type": "code",
   "execution_count": 8,
   "id": "9a59e8f2-e586-4339-858d-8cf5dd789eb9",
   "metadata": {},
   "outputs": [
    {
     "data": {
      "text/plain": [
       "200"
      ]
     },
     "execution_count": 8,
     "metadata": {},
     "output_type": "execute_result"
    }
   ],
   "source": [
    "resp = se.get(url)\n",
    "resp.status_code"
   ]
  },
  {
   "cell_type": "code",
   "execution_count": 19,
   "id": "60f8c338-ea15-4c94-b767-045878c61db9",
   "metadata": {},
   "outputs": [],
   "source": [
    "# Passing the html from the response using BeautifulSoup\n",
    "body = resp.content\n",
    "soup = BeautifulSoup(body, 'html.parser')"
   ]
  },
  {
   "cell_type": "markdown",
   "id": "8160a189-152e-4acf-a97e-90ec99f740f7",
   "metadata": {},
   "source": [
    "### **Scrape the movie titles**"
   ]
  },
  {
   "cell_type": "markdown",
   "id": "76fb2bf3-9470-45fe-9588-3aa669069256",
   "metadata": {},
   "source": [
    "title_tag = h3 class=\"ipc-title__text"
   ]
  },
  {
   "cell_type": "code",
   "execution_count": 35,
   "id": "6d281f71-3d1a-4d8a-b10f-b87ef4daeaef",
   "metadata": {},
   "outputs": [
    {
     "data": {
      "text/plain": [
       "[<h3 class=\"ipc-title__text\">1. Gladiator</h3>,\n",
       " <h3 class=\"ipc-title__text\">2. Interstellar</h3>,\n",
       " <h3 class=\"ipc-title__text\">3. Dune: Part Two</h3>,\n",
       " <h3 class=\"ipc-title__text\">4. The Wild Robot</h3>,\n",
       " <h3 class=\"ipc-title__text\">5. Oppenheimer</h3>,\n",
       " <h3 class=\"ipc-title__text\">6. The Godfather</h3>,\n",
       " <h3 class=\"ipc-title__text\">7. The Shawshank Redemption</h3>,\n",
       " <h3 class=\"ipc-title__text\">8. The Lord of the Rings: The Fellowship of the Ring</h3>,\n",
       " <h3 class=\"ipc-title__text\">9. Die Hard</h3>,\n",
       " <h3 class=\"ipc-title__text\">10. Come and See</h3>,\n",
       " <h3 class=\"ipc-title__text\">11. Inglourious Basterds</h3>,\n",
       " <h3 class=\"ipc-title__text\">12. The Sound of Music</h3>,\n",
       " <h3 class=\"ipc-title__text\">13. Inception</h3>,\n",
       " <h3 class=\"ipc-title__text\">14. It's a Wonderful Life</h3>,\n",
       " <h3 class=\"ipc-title__text\">15. Mad Max: Fury Road</h3>,\n",
       " <h3 class=\"ipc-title__text\">16. The Dark Knight</h3>,\n",
       " <h3 class=\"ipc-title__text\">17. Pulp Fiction</h3>,\n",
       " <h3 class=\"ipc-title__text\">18. Se7en</h3>,\n",
       " <h3 class=\"ipc-title__text\">19. Harry Potter and the Deathly Hallows: Part 2</h3>,\n",
       " <h3 class=\"ipc-title__text\">20. The Wizard of Oz</h3>,\n",
       " <h3 class=\"ipc-title__text\">21. Top Gun: Maverick</h3>,\n",
       " <h3 class=\"ipc-title__text\">22. Parasite</h3>,\n",
       " <h3 class=\"ipc-title__text\">23. The Lord of the Rings: The Return of the King</h3>,\n",
       " <h3 class=\"ipc-title__text\">24. The Lion King</h3>,\n",
       " <h3 class=\"ipc-title__text\">25. The Wolf of Wall Street</h3>,\n",
       " <h3 class=\"ipc-title__text\">Recently viewed</h3>]"
      ]
     },
     "execution_count": 35,
     "metadata": {},
     "output_type": "execute_result"
    }
   ],
   "source": [
    "movie_title = soup.find_all(\"h3\", class_=\"ipc-title__text\")\n",
    "movie_title"
   ]
  },
  {
   "cell_type": "code",
   "execution_count": 37,
   "id": "075bbcea-f8cb-40ad-9b07-7d3b30ef9cbb",
   "metadata": {},
   "outputs": [
    {
     "data": {
      "text/plain": [
       "['1. Gladiator',\n",
       " '2. Interstellar',\n",
       " '3. Dune: Part Two',\n",
       " '4. The Wild Robot',\n",
       " '5. Oppenheimer',\n",
       " '6. The Godfather',\n",
       " '7. The Shawshank Redemption',\n",
       " '8. The Lord of the Rings: The Fellowship of the Ring',\n",
       " '9. Die Hard',\n",
       " '10. Come and See',\n",
       " '11. Inglourious Basterds',\n",
       " '12. The Sound of Music',\n",
       " '13. Inception',\n",
       " \"14. It's a Wonderful Life\",\n",
       " '15. Mad Max: Fury Road',\n",
       " '16. The Dark Knight',\n",
       " '17. Pulp Fiction',\n",
       " '18. Se7en',\n",
       " '19. Harry Potter and the Deathly Hallows: Part 2',\n",
       " '20. The Wizard of Oz',\n",
       " '21. Top Gun: Maverick',\n",
       " '22. Parasite',\n",
       " '23. The Lord of the Rings: The Return of the King',\n",
       " '24. The Lion King',\n",
       " '25. The Wolf of Wall Street']"
      ]
     },
     "execution_count": 37,
     "metadata": {},
     "output_type": "execute_result"
    }
   ],
   "source": [
    "# Getting the movie titles without tags\n",
    "movies = []\n",
    "for movie in movie_title:\n",
    "    text = movie.get_text().strip()\n",
    "    movies.append(text)\n",
    "movies = movies[:25]\n",
    "movies"
   ]
  },
  {
   "cell_type": "code",
   "execution_count": 43,
   "id": "3116c948-82cd-42be-9360-e929f39d0004",
   "metadata": {},
   "outputs": [
    {
     "data": {
      "text/plain": [
       "['Gladiator',\n",
       " 'Interstellar',\n",
       " 'Dune: Part Two',\n",
       " 'The Wild Robot',\n",
       " 'Oppenheimer',\n",
       " 'The Godfather',\n",
       " 'The Shawshank Redemption',\n",
       " 'The Lord of the Rings: The Fellowship of the Ring',\n",
       " 'Die Hard',\n",
       " 'Come and See',\n",
       " 'Inglourious Basterds',\n",
       " 'The Sound of Music',\n",
       " 'Inception',\n",
       " \"It's a Wonderful Life\",\n",
       " 'Mad Max: Fury Road',\n",
       " 'The Dark Knight',\n",
       " 'Pulp Fiction',\n",
       " 'Se7en',\n",
       " 'Harry Potter and the Deathly Hallows: Part 2',\n",
       " 'The Wizard of Oz',\n",
       " 'Top Gun: Maverick',\n",
       " 'Parasite',\n",
       " 'The Lord of the Rings: The Return of the King',\n",
       " 'The Lion King',\n",
       " 'The Wolf of Wall Street']"
      ]
     },
     "execution_count": 43,
     "metadata": {},
     "output_type": "execute_result"
    }
   ],
   "source": [
    "# Getting the movie title without the number\n",
    "titles = []\n",
    "ranks = []\n",
    "\n",
    "for entry in movies:\n",
    "    rank, title = entry.split('. ', 1)\n",
    "    ranks.append(rank)\n",
    "    titles.append(title)\n",
    "titles"
   ]
  },
  {
   "cell_type": "markdown",
   "id": "90931cfd-6ece-4f52-b00d-7c6793a15129",
   "metadata": {},
   "source": [
    "### **Scrape the year the movies were released, runtime and certification**"
   ]
  },
  {
   "cell_type": "markdown",
   "id": "e3e87ad3-1faf-4c3d-97ed-237bebafc2da",
   "metadata": {},
   "source": [
    "Years, runtime and certification tags = span class=\"sc-300a8231-7 eaXxft dli-title-metadata-item\""
   ]
  },
  {
   "cell_type": "code",
   "execution_count": 52,
   "id": "a6f80c49-3050-4d69-9280-4b872e4628c8",
   "metadata": {},
   "outputs": [
    {
     "data": {
      "text/plain": [
       "[<span class=\"sc-300a8231-7 eaXxft dli-title-metadata-item\">2000</span>,\n",
       " <span class=\"sc-300a8231-7 eaXxft dli-title-metadata-item\">2h 35m</span>,\n",
       " <span class=\"sc-300a8231-7 eaXxft dli-title-metadata-item\">R</span>,\n",
       " <span class=\"sc-300a8231-7 eaXxft dli-title-metadata-item\">2014</span>,\n",
       " <span class=\"sc-300a8231-7 eaXxft dli-title-metadata-item\">2h 49m</span>,\n",
       " <span class=\"sc-300a8231-7 eaXxft dli-title-metadata-item\">PG-13</span>,\n",
       " <span class=\"sc-300a8231-7 eaXxft dli-title-metadata-item\">2024</span>,\n",
       " <span class=\"sc-300a8231-7 eaXxft dli-title-metadata-item\">2h 46m</span>,\n",
       " <span class=\"sc-300a8231-7 eaXxft dli-title-metadata-item\">PG-13</span>,\n",
       " <span class=\"sc-300a8231-7 eaXxft dli-title-metadata-item\">2024</span>,\n",
       " <span class=\"sc-300a8231-7 eaXxft dli-title-metadata-item\">1h 42m</span>,\n",
       " <span class=\"sc-300a8231-7 eaXxft dli-title-metadata-item\">PG</span>,\n",
       " <span class=\"sc-300a8231-7 eaXxft dli-title-metadata-item\">2023</span>,\n",
       " <span class=\"sc-300a8231-7 eaXxft dli-title-metadata-item\">3h</span>,\n",
       " <span class=\"sc-300a8231-7 eaXxft dli-title-metadata-item\">R</span>,\n",
       " <span class=\"sc-300a8231-7 eaXxft dli-title-metadata-item\">1972</span>,\n",
       " <span class=\"sc-300a8231-7 eaXxft dli-title-metadata-item\">2h 55m</span>,\n",
       " <span class=\"sc-300a8231-7 eaXxft dli-title-metadata-item\">R</span>,\n",
       " <span class=\"sc-300a8231-7 eaXxft dli-title-metadata-item\">1994</span>,\n",
       " <span class=\"sc-300a8231-7 eaXxft dli-title-metadata-item\">2h 22m</span>,\n",
       " <span class=\"sc-300a8231-7 eaXxft dli-title-metadata-item\">R</span>,\n",
       " <span class=\"sc-300a8231-7 eaXxft dli-title-metadata-item\">2001</span>,\n",
       " <span class=\"sc-300a8231-7 eaXxft dli-title-metadata-item\">2h 58m</span>,\n",
       " <span class=\"sc-300a8231-7 eaXxft dli-title-metadata-item\">PG-13</span>,\n",
       " <span class=\"sc-300a8231-7 eaXxft dli-title-metadata-item\">1988</span>,\n",
       " <span class=\"sc-300a8231-7 eaXxft dli-title-metadata-item\">2h 12m</span>,\n",
       " <span class=\"sc-300a8231-7 eaXxft dli-title-metadata-item\">R</span>,\n",
       " <span class=\"sc-300a8231-7 eaXxft dli-title-metadata-item\">1985</span>,\n",
       " <span class=\"sc-300a8231-7 eaXxft dli-title-metadata-item\">2h 22m</span>,\n",
       " <span class=\"sc-300a8231-7 eaXxft dli-title-metadata-item\">Not Rated</span>,\n",
       " <span class=\"sc-300a8231-7 eaXxft dli-title-metadata-item\">2009</span>,\n",
       " <span class=\"sc-300a8231-7 eaXxft dli-title-metadata-item\">2h 33m</span>,\n",
       " <span class=\"sc-300a8231-7 eaXxft dli-title-metadata-item\">R</span>,\n",
       " <span class=\"sc-300a8231-7 eaXxft dli-title-metadata-item\">1965</span>,\n",
       " <span class=\"sc-300a8231-7 eaXxft dli-title-metadata-item\">2h 52m</span>,\n",
       " <span class=\"sc-300a8231-7 eaXxft dli-title-metadata-item\">G</span>,\n",
       " <span class=\"sc-300a8231-7 eaXxft dli-title-metadata-item\">2010</span>,\n",
       " <span class=\"sc-300a8231-7 eaXxft dli-title-metadata-item\">2h 28m</span>,\n",
       " <span class=\"sc-300a8231-7 eaXxft dli-title-metadata-item\">PG-13</span>,\n",
       " <span class=\"sc-300a8231-7 eaXxft dli-title-metadata-item\">1946</span>,\n",
       " <span class=\"sc-300a8231-7 eaXxft dli-title-metadata-item\">2h 10m</span>,\n",
       " <span class=\"sc-300a8231-7 eaXxft dli-title-metadata-item\">PG</span>,\n",
       " <span class=\"sc-300a8231-7 eaXxft dli-title-metadata-item\">2015</span>,\n",
       " <span class=\"sc-300a8231-7 eaXxft dli-title-metadata-item\">2h</span>,\n",
       " <span class=\"sc-300a8231-7 eaXxft dli-title-metadata-item\">R</span>,\n",
       " <span class=\"sc-300a8231-7 eaXxft dli-title-metadata-item\">2008</span>,\n",
       " <span class=\"sc-300a8231-7 eaXxft dli-title-metadata-item\">2h 32m</span>,\n",
       " <span class=\"sc-300a8231-7 eaXxft dli-title-metadata-item\">PG-13</span>,\n",
       " <span class=\"sc-300a8231-7 eaXxft dli-title-metadata-item\">1994</span>,\n",
       " <span class=\"sc-300a8231-7 eaXxft dli-title-metadata-item\">2h 34m</span>,\n",
       " <span class=\"sc-300a8231-7 eaXxft dli-title-metadata-item\">R</span>,\n",
       " <span class=\"sc-300a8231-7 eaXxft dli-title-metadata-item\">1995</span>,\n",
       " <span class=\"sc-300a8231-7 eaXxft dli-title-metadata-item\">2h 7m</span>,\n",
       " <span class=\"sc-300a8231-7 eaXxft dli-title-metadata-item\">R</span>,\n",
       " <span class=\"sc-300a8231-7 eaXxft dli-title-metadata-item\">2011</span>,\n",
       " <span class=\"sc-300a8231-7 eaXxft dli-title-metadata-item\">2h 10m</span>,\n",
       " <span class=\"sc-300a8231-7 eaXxft dli-title-metadata-item\">PG-13</span>,\n",
       " <span class=\"sc-300a8231-7 eaXxft dli-title-metadata-item\">1939</span>,\n",
       " <span class=\"sc-300a8231-7 eaXxft dli-title-metadata-item\">1h 42m</span>,\n",
       " <span class=\"sc-300a8231-7 eaXxft dli-title-metadata-item\">G</span>,\n",
       " <span class=\"sc-300a8231-7 eaXxft dli-title-metadata-item\">2022</span>,\n",
       " <span class=\"sc-300a8231-7 eaXxft dli-title-metadata-item\">2h 10m</span>,\n",
       " <span class=\"sc-300a8231-7 eaXxft dli-title-metadata-item\">PG-13</span>,\n",
       " <span class=\"sc-300a8231-7 eaXxft dli-title-metadata-item\">2019</span>,\n",
       " <span class=\"sc-300a8231-7 eaXxft dli-title-metadata-item\">2h 12m</span>,\n",
       " <span class=\"sc-300a8231-7 eaXxft dli-title-metadata-item\">R</span>,\n",
       " <span class=\"sc-300a8231-7 eaXxft dli-title-metadata-item\">2003</span>,\n",
       " <span class=\"sc-300a8231-7 eaXxft dli-title-metadata-item\">3h 21m</span>,\n",
       " <span class=\"sc-300a8231-7 eaXxft dli-title-metadata-item\">PG-13</span>,\n",
       " <span class=\"sc-300a8231-7 eaXxft dli-title-metadata-item\">1994</span>,\n",
       " <span class=\"sc-300a8231-7 eaXxft dli-title-metadata-item\">1h 28m</span>,\n",
       " <span class=\"sc-300a8231-7 eaXxft dli-title-metadata-item\">G</span>,\n",
       " <span class=\"sc-300a8231-7 eaXxft dli-title-metadata-item\">2013</span>,\n",
       " <span class=\"sc-300a8231-7 eaXxft dli-title-metadata-item\">3h</span>,\n",
       " <span class=\"sc-300a8231-7 eaXxft dli-title-metadata-item\">R</span>]"
      ]
     },
     "execution_count": 52,
     "metadata": {},
     "output_type": "execute_result"
    }
   ],
   "source": [
    "year_runtime_cert = soup.find_all('span', class_=\"sc-300a8231-7 eaXxft dli-title-metadata-item\")\n",
    "year_runtime_cert"
   ]
  },
  {
   "cell_type": "code",
   "execution_count": 58,
   "id": "bfbcc8e1-cb0e-4b78-be15-15d3dce3a589",
   "metadata": {},
   "outputs": [],
   "source": [
    "# Getting the year, runtime and certification differently by looping through the span\n",
    "released_years = []\n",
    "runtime = []\n",
    "certifications = []\n",
    "\n",
    "for span in year_runtime_cert:\n",
    "    text = span.get_text()\n",
    "\n",
    "    # Identification of the year\n",
    "    if text.isdigit() and len(text)==4:\n",
    "        released_years.append(text)\n",
    "    # identification of the movie runtime\n",
    "    elif 'h' in text or 'm' in text:\n",
    "        runtime.append(text)\n",
    "    else:\n",
    "        certifications.append(text)"
   ]
  },
  {
   "cell_type": "code",
   "execution_count": 60,
   "id": "6fd0cded-278a-4e0a-bf20-a72c0d4b1575",
   "metadata": {},
   "outputs": [
    {
     "data": {
      "text/plain": [
       "['2000',\n",
       " '2014',\n",
       " '2024',\n",
       " '2024',\n",
       " '2023',\n",
       " '1972',\n",
       " '1994',\n",
       " '2001',\n",
       " '1988',\n",
       " '1985',\n",
       " '2009',\n",
       " '1965',\n",
       " '2010',\n",
       " '1946',\n",
       " '2015',\n",
       " '2008',\n",
       " '1994',\n",
       " '1995',\n",
       " '2011',\n",
       " '1939',\n",
       " '2022',\n",
       " '2019',\n",
       " '2003',\n",
       " '1994',\n",
       " '2013']"
      ]
     },
     "execution_count": 60,
     "metadata": {},
     "output_type": "execute_result"
    }
   ],
   "source": [
    "released_years"
   ]
  },
  {
   "cell_type": "code",
   "execution_count": 62,
   "id": "57bba9a1-ebf3-415d-b2cd-442c0fba8d08",
   "metadata": {},
   "outputs": [
    {
     "data": {
      "text/plain": [
       "['2h 35m',\n",
       " '2h 49m',\n",
       " '2h 46m',\n",
       " '1h 42m',\n",
       " '3h',\n",
       " '2h 55m',\n",
       " '2h 22m',\n",
       " '2h 58m',\n",
       " '2h 12m',\n",
       " '2h 22m',\n",
       " '2h 33m',\n",
       " '2h 52m',\n",
       " '2h 28m',\n",
       " '2h 10m',\n",
       " '2h',\n",
       " '2h 32m',\n",
       " '2h 34m',\n",
       " '2h 7m',\n",
       " '2h 10m',\n",
       " '1h 42m',\n",
       " '2h 10m',\n",
       " '2h 12m',\n",
       " '3h 21m',\n",
       " '1h 28m',\n",
       " '3h']"
      ]
     },
     "execution_count": 62,
     "metadata": {},
     "output_type": "execute_result"
    }
   ],
   "source": [
    "runtime"
   ]
  },
  {
   "cell_type": "code",
   "execution_count": 64,
   "id": "b76a0041-3069-4bd0-bc04-dad9f871b3cb",
   "metadata": {},
   "outputs": [
    {
     "data": {
      "text/plain": [
       "['R',\n",
       " 'PG-13',\n",
       " 'PG-13',\n",
       " 'PG',\n",
       " 'R',\n",
       " 'R',\n",
       " 'R',\n",
       " 'PG-13',\n",
       " 'R',\n",
       " 'Not Rated',\n",
       " 'R',\n",
       " 'G',\n",
       " 'PG-13',\n",
       " 'PG',\n",
       " 'R',\n",
       " 'PG-13',\n",
       " 'R',\n",
       " 'R',\n",
       " 'PG-13',\n",
       " 'G',\n",
       " 'PG-13',\n",
       " 'R',\n",
       " 'PG-13',\n",
       " 'G',\n",
       " 'R']"
      ]
     },
     "execution_count": 64,
     "metadata": {},
     "output_type": "execute_result"
    }
   ],
   "source": [
    "certifications"
   ]
  },
  {
   "cell_type": "markdown",
   "id": "f1217f8e-76cc-4e52-af21-8349ea4094d4",
   "metadata": {},
   "source": [
    "### **Scrape the movie rating**"
   ]
  },
  {
   "cell_type": "markdown",
   "id": "e5f873fe-04e5-4d18-839e-b63b8c2f40f8",
   "metadata": {},
   "source": [
    "rating tag = span class=\"ipc-rating-star--rating\""
   ]
  },
  {
   "cell_type": "markdown",
   "id": "3ac7ad53-82ad-4ccb-beed-a4214b39e8ad",
   "metadata": {},
   "source": [
    "# Getting the rating span for the movie\n",
    "rating_span = soup.find_all('span', class_=\"ipc-rating-star--rating\")\n",
    "rating_span"
   ]
  },
  {
   "cell_type": "code",
   "execution_count": 71,
   "id": "b4c8a041-cfc7-496f-9a7f-073ec1ebfcb0",
   "metadata": {},
   "outputs": [
    {
     "data": {
      "text/plain": [
       "['8.5',\n",
       " '8.7',\n",
       " '8.5',\n",
       " '8.2',\n",
       " '8.3',\n",
       " '9.2',\n",
       " '9.3',\n",
       " '8.9',\n",
       " '8.2',\n",
       " '8.3',\n",
       " '8.4',\n",
       " '8.1',\n",
       " '8.8',\n",
       " '8.6',\n",
       " '8.1',\n",
       " '9.0',\n",
       " '8.9',\n",
       " '8.6',\n",
       " '8.1',\n",
       " '8.1',\n",
       " '8.2',\n",
       " '8.5',\n",
       " '9.0',\n",
       " '8.5',\n",
       " '8.2']"
      ]
     },
     "execution_count": 71,
     "metadata": {},
     "output_type": "execute_result"
    }
   ],
   "source": [
    "# Getting the rating span without the tag\n",
    "ratings = []\n",
    "\n",
    "for rate in rating_span:\n",
    "    score = rate.get_text()\n",
    "    ratings.append(score)\n",
    "ratings"
   ]
  },
  {
   "cell_type": "markdown",
   "id": "3c2d1910-931c-4a1d-8172-144eee0c4b2c",
   "metadata": {},
   "source": [
    "### **Scrape the rate vote counts**"
   ]
  },
  {
   "cell_type": "markdown",
   "id": "1dc381aa-f5f4-400b-99d2-dade8f1b7c95",
   "metadata": {},
   "source": [
    "vote_count tag = span class=\"ipc-rating-star--voteCount\""
   ]
  },
  {
   "cell_type": "code",
   "execution_count": 77,
   "id": "972c2b8a-fbc0-4b1c-87bd-5f2174e96c57",
   "metadata": {},
   "outputs": [
    {
     "data": {
      "text/plain": [
       "[<span class=\"ipc-rating-star--voteCount\"> (<!-- -->1.7M<!-- -->)</span>,\n",
       " <span class=\"ipc-rating-star--voteCount\"> (<!-- -->2.2M<!-- -->)</span>,\n",
       " <span class=\"ipc-rating-star--voteCount\"> (<!-- -->579K<!-- -->)</span>,\n",
       " <span class=\"ipc-rating-star--voteCount\"> (<!-- -->113K<!-- -->)</span>,\n",
       " <span class=\"ipc-rating-star--voteCount\"> (<!-- -->838K<!-- -->)</span>,\n",
       " <span class=\"ipc-rating-star--voteCount\"> (<!-- -->2.1M<!-- -->)</span>,\n",
       " <span class=\"ipc-rating-star--voteCount\"> (<!-- -->3M<!-- -->)</span>,\n",
       " <span class=\"ipc-rating-star--voteCount\"> (<!-- -->2.1M<!-- -->)</span>,\n",
       " <span class=\"ipc-rating-star--voteCount\"> (<!-- -->979K<!-- -->)</span>,\n",
       " <span class=\"ipc-rating-star--voteCount\"> (<!-- -->108K<!-- -->)</span>,\n",
       " <span class=\"ipc-rating-star--voteCount\"> (<!-- -->1.6M<!-- -->)</span>,\n",
       " <span class=\"ipc-rating-star--voteCount\"> (<!-- -->271K<!-- -->)</span>,\n",
       " <span class=\"ipc-rating-star--voteCount\"> (<!-- -->2.6M<!-- -->)</span>,\n",
       " <span class=\"ipc-rating-star--voteCount\"> (<!-- -->521K<!-- -->)</span>,\n",
       " <span class=\"ipc-rating-star--voteCount\"> (<!-- -->1.1M<!-- -->)</span>,\n",
       " <span class=\"ipc-rating-star--voteCount\"> (<!-- -->3M<!-- -->)</span>,\n",
       " <span class=\"ipc-rating-star--voteCount\"> (<!-- -->2.3M<!-- -->)</span>,\n",
       " <span class=\"ipc-rating-star--voteCount\"> (<!-- -->1.9M<!-- -->)</span>,\n",
       " <span class=\"ipc-rating-star--voteCount\"> (<!-- -->981K<!-- -->)</span>,\n",
       " <span class=\"ipc-rating-star--voteCount\"> (<!-- -->444K<!-- -->)</span>,\n",
       " <span class=\"ipc-rating-star--voteCount\"> (<!-- -->751K<!-- -->)</span>,\n",
       " <span class=\"ipc-rating-star--voteCount\"> (<!-- -->1M<!-- -->)</span>,\n",
       " <span class=\"ipc-rating-star--voteCount\"> (<!-- -->2M<!-- -->)</span>,\n",
       " <span class=\"ipc-rating-star--voteCount\"> (<!-- -->1.2M<!-- -->)</span>,\n",
       " <span class=\"ipc-rating-star--voteCount\"> (<!-- -->1.7M<!-- -->)</span>]"
      ]
     },
     "execution_count": 77,
     "metadata": {},
     "output_type": "execute_result"
    }
   ],
   "source": [
    "# Getting the vote count\n",
    "vote_span = soup.find_all('span', class_=\"ipc-rating-star--voteCount\")\n",
    "vote_span"
   ]
  },
  {
   "cell_type": "code",
   "execution_count": 81,
   "id": "03cf38f4-91d8-41b0-b27e-9b5ada689ba2",
   "metadata": {},
   "outputs": [
    {
     "data": {
      "text/plain": [
       "['1.7M',\n",
       " '2.2M',\n",
       " '579K',\n",
       " '113K',\n",
       " '838K',\n",
       " '2.1M',\n",
       " '3M',\n",
       " '2.1M',\n",
       " '979K',\n",
       " '108K',\n",
       " '1.6M',\n",
       " '271K',\n",
       " '2.6M',\n",
       " '521K',\n",
       " '1.1M',\n",
       " '3M',\n",
       " '2.3M',\n",
       " '1.9M',\n",
       " '981K',\n",
       " '444K',\n",
       " '751K',\n",
       " '1M',\n",
       " '2M',\n",
       " '1.2M',\n",
       " '1.7M']"
      ]
     },
     "execution_count": 81,
     "metadata": {},
     "output_type": "execute_result"
    }
   ],
   "source": [
    "# Getting the vote count without the tag\n",
    "vote_counts = []\n",
    "\n",
    "for vote in vote_span:\n",
    "    for content in vote.contents:\n",
    "        if 'M' in content or 'K' in content:\n",
    "            vote_counts.append(content)\n",
    "vote_counts"
   ]
  },
  {
   "cell_type": "markdown",
   "id": "89ac40e1-6590-4cda-a669-1510a07cde4b",
   "metadata": {},
   "source": [
    "### **Scrape the metascore**"
   ]
  },
  {
   "cell_type": "markdown",
   "id": "e23ba136-0282-4d5a-94f3-58571fc4e9ff",
   "metadata": {},
   "source": [
    "metascore tag = span class=\"sc-b0901df4-0 bXIOoL metacritic-score-box\""
   ]
  },
  {
   "cell_type": "code",
   "execution_count": 85,
   "id": "1125b943-2029-47ed-8262-fcd8e94f9d89",
   "metadata": {},
   "outputs": [
    {
     "data": {
      "text/plain": [
       "[<span class=\"sc-b0901df4-0 bXIOoL metacritic-score-box\" style=\"background-color:#54A72A\">67</span>,\n",
       " <span class=\"sc-b0901df4-0 bXIOoL metacritic-score-box\" style=\"background-color:#54A72A\">74</span>,\n",
       " <span class=\"sc-b0901df4-0 bXIOoL metacritic-score-box\" style=\"background-color:#54A72A\">79</span>,\n",
       " <span class=\"sc-b0901df4-0 bXIOoL metacritic-score-box\" style=\"background-color:#54A72A\">85</span>,\n",
       " <span class=\"sc-b0901df4-0 bXIOoL metacritic-score-box\" style=\"background-color:#54A72A\">90</span>,\n",
       " <span class=\"sc-b0901df4-0 bXIOoL metacritic-score-box\" style=\"background-color:#54A72A\">100</span>,\n",
       " <span class=\"sc-b0901df4-0 bXIOoL metacritic-score-box\" style=\"background-color:#54A72A\">82</span>,\n",
       " <span class=\"sc-b0901df4-0 bXIOoL metacritic-score-box\" style=\"background-color:#54A72A\">92</span>,\n",
       " <span class=\"sc-b0901df4-0 bXIOoL metacritic-score-box\" style=\"background-color:#54A72A\">72</span>,\n",
       " <span class=\"sc-b0901df4-0 bXIOoL metacritic-score-box\" style=\"background-color:#54A72A\">69</span>,\n",
       " <span class=\"sc-b0901df4-0 bXIOoL metacritic-score-box\" style=\"background-color:#54A72A\">63</span>,\n",
       " <span class=\"sc-b0901df4-0 bXIOoL metacritic-score-box\" style=\"background-color:#54A72A\">74</span>,\n",
       " <span class=\"sc-b0901df4-0 bXIOoL metacritic-score-box\" style=\"background-color:#54A72A\">89</span>,\n",
       " <span class=\"sc-b0901df4-0 bXIOoL metacritic-score-box\" style=\"background-color:#54A72A\">90</span>,\n",
       " <span class=\"sc-b0901df4-0 bXIOoL metacritic-score-box\" style=\"background-color:#54A72A\">84</span>,\n",
       " <span class=\"sc-b0901df4-0 bXIOoL metacritic-score-box\" style=\"background-color:#54A72A\">95</span>,\n",
       " <span class=\"sc-b0901df4-0 bXIOoL metacritic-score-box\" style=\"background-color:#54A72A\">65</span>,\n",
       " <span class=\"sc-b0901df4-0 bXIOoL metacritic-score-box\" style=\"background-color:#54A72A\">85</span>,\n",
       " <span class=\"sc-b0901df4-0 bXIOoL metacritic-score-box\" style=\"background-color:#54A72A\">92</span>,\n",
       " <span class=\"sc-b0901df4-0 bXIOoL metacritic-score-box\" style=\"background-color:#54A72A\">78</span>,\n",
       " <span class=\"sc-b0901df4-0 bXIOoL metacritic-score-box\" style=\"background-color:#54A72A\">97</span>,\n",
       " <span class=\"sc-b0901df4-0 bXIOoL metacritic-score-box\" style=\"background-color:#54A72A\">94</span>,\n",
       " <span class=\"sc-b0901df4-0 bXIOoL metacritic-score-box\" style=\"background-color:#54A72A\">88</span>,\n",
       " <span class=\"sc-b0901df4-0 bXIOoL metacritic-score-box\" style=\"background-color:#54A72A\">75</span>]"
      ]
     },
     "execution_count": 85,
     "metadata": {},
     "output_type": "execute_result"
    }
   ],
   "source": [
    "# Getting the metascore\n",
    "metascore_span = soup.find_all('span', class_=\"sc-b0901df4-0 bXIOoL metacritic-score-box\")\n",
    "metascore_span"
   ]
  },
  {
   "cell_type": "code",
   "execution_count": 87,
   "id": "6f660027-166d-4999-8879-94244df928d1",
   "metadata": {},
   "outputs": [
    {
     "data": {
      "text/plain": [
       "['67',\n",
       " '74',\n",
       " '79',\n",
       " '85',\n",
       " '90',\n",
       " '100',\n",
       " '82',\n",
       " '92',\n",
       " '72',\n",
       " '69',\n",
       " '63',\n",
       " '74',\n",
       " '89',\n",
       " '90',\n",
       " '84',\n",
       " '95',\n",
       " '65',\n",
       " '85',\n",
       " '92',\n",
       " '78',\n",
       " '97',\n",
       " '94',\n",
       " '88',\n",
       " '75']"
      ]
     },
     "execution_count": 87,
     "metadata": {},
     "output_type": "execute_result"
    }
   ],
   "source": [
    "# Getting the metascore without tags\n",
    "metascores = []\n",
    "\n",
    "for score in metascore_span:\n",
    "    mark = score.get_text()\n",
    "    metascores.append(mark)\n",
    "metascores"
   ]
  },
  {
   "cell_type": "markdown",
   "id": "d0616638-bb7d-4e4c-b2e2-c20c047477e1",
   "metadata": {},
   "source": [
    "### **Scrape the movie description**"
   ]
  },
  {
   "cell_type": "markdown",
   "id": "9e35e482-9d05-4ad7-8962-43d33882a667",
   "metadata": {},
   "source": [
    "description tag = div class=\"ipc-html-content-inner-div\""
   ]
  },
  {
   "cell_type": "code",
   "execution_count": 93,
   "id": "22e58df8-75c2-4cca-aa29-c93e7390dc44",
   "metadata": {},
   "outputs": [
    {
     "data": {
      "text/plain": [
       "[<div class=\"ipc-html-content-inner-div\" role=\"presentation\">A former Roman General sets out to exact vengeance against the corrupt emperor who murdered his family and sent him into slavery.</div>,\n",
       " <div class=\"ipc-html-content-inner-div\" role=\"presentation\">When Earth becomes uninhabitable in the future, a farmer and ex-NASA pilot, Joseph Cooper, is tasked to pilot a spacecraft, along with a team of researchers, to find a new planet for humans.</div>,\n",
       " <div class=\"ipc-html-content-inner-div\" role=\"presentation\">Paul Atreides unites with the Fremen while on a warpath of revenge against the conspirators who destroyed his family. Facing a choice between the love of his life and the fate of the universe, he endeavors to prevent a terrible future.</div>,\n",
       " <div class=\"ipc-html-content-inner-div\" role=\"presentation\">After a shipwreck, an intelligent robot called Roz is stranded on an uninhabited island. To survive the harsh environment, Roz bonds with the island's animals and cares for an orphaned baby goose.</div>,\n",
       " <div class=\"ipc-html-content-inner-div\" role=\"presentation\">A dramatization of the life story of J. Robert Oppenheimer, the physicist who had a large hand in the development of the atomic bombs that brought an end to World War II.</div>,\n",
       " <div class=\"ipc-html-content-inner-div\" role=\"presentation\">The aging patriarch of an organized crime dynasty transfers control of his clandestine empire to his reluctant son.</div>,\n",
       " <div class=\"ipc-html-content-inner-div\" role=\"presentation\">A banker convicted of uxoricide forms a friendship over a quarter century with a hardened convict, while maintaining his innocence and trying to remain hopeful through simple compassion.</div>,\n",
       " <div class=\"ipc-html-content-inner-div\" role=\"presentation\">A meek Hobbit from the Shire and eight companions set out on a journey to destroy the powerful One Ring and save Middle-earth from the Dark Lord Sauron.</div>,\n",
       " <div class=\"ipc-html-content-inner-div\" role=\"presentation\">A New York City police officer tries to save his estranged wife and several others taken hostage by terrorists during a Christmas party at the Nakatomi Plaza in Los Angeles.</div>,\n",
       " <div class=\"ipc-html-content-inner-div\" role=\"presentation\">After finding an old rifle, a young boy joins the Soviet resistance movement against ruthless German forces and experiences the horrors of World War II.</div>,\n",
       " <div class=\"ipc-html-content-inner-div\" role=\"presentation\">In Nazi-occupied France during World War II, a plan to assassinate Nazi leaders by a group of Jewish U.S. soldiers coincides with a theatre owner's vengeful plans for the same.</div>,\n",
       " <div class=\"ipc-html-content-inner-div\" role=\"presentation\">A young novice is sent by her convent in 1930s Austria to become a governess to the seven children of a widowed naval officer.</div>,\n",
       " <div class=\"ipc-html-content-inner-div\" role=\"presentation\">A thief who steals corporate secrets through the use of dream-sharing technology is given the inverse task of planting an idea into the mind of a C.E.O., but his tragic past may doom the project and his team to disaster.</div>,\n",
       " <div class=\"ipc-html-content-inner-div\" role=\"presentation\">An angel is sent from Heaven to help a desperately frustrated businessman by showing him what life would have been like if he had never existed.</div>,\n",
       " <div class=\"ipc-html-content-inner-div\" role=\"presentation\">In a post-apocalyptic wasteland, a woman rebels against a tyrannical ruler in search for her homeland with the aid of a group of female prisoners, a psychotic worshipper and a drifter named Max.</div>,\n",
       " <div class=\"ipc-html-content-inner-div\" role=\"presentation\">When a menace known as the Joker wreaks havoc and chaos on the people of Gotham, Batman, James Gordon and Harvey Dent must work together to put an end to the madness.</div>,\n",
       " <div class=\"ipc-html-content-inner-div\" role=\"presentation\">The lives of two mob hitmen, a boxer, a gangster and his wife, and a pair of diner bandits intertwine in four tales of violence and redemption.</div>,\n",
       " <div class=\"ipc-html-content-inner-div\" role=\"presentation\">Two detectives, a rookie and a veteran, hunt a serial killer who uses the seven deadly sins as his motives.</div>,\n",
       " <div class=\"ipc-html-content-inner-div\" role=\"presentation\">As the battle between the forces of good and evil in the wizarding world escalates, Harry Potter draws ever closer to his final confrontation with Voldemort.</div>,\n",
       " <div class=\"ipc-html-content-inner-div\" role=\"presentation\">Young Dorothy Gale and her dog Toto are swept away by a tornado from their Kansas farm to the magical Land of Oz and embark on a quest with three new friends to see the Wizard, who can return her to her home and fulfill the others' wishes.</div>,\n",
       " <div class=\"ipc-html-content-inner-div\" role=\"presentation\">The story involves Maverick confronting his past while training a group of younger Top Gun graduates, including the son of his deceased best friend, for a dangerous mission.</div>,\n",
       " <div class=\"ipc-html-content-inner-div\" role=\"presentation\">Greed and class discrimination threaten the newly formed symbiotic relationship between the wealthy Park family and the destitute Kim clan.</div>,\n",
       " <div class=\"ipc-html-content-inner-div\" role=\"presentation\">Gandalf and Aragorn lead the World of Men against Sauron's army to draw his gaze from Frodo and Sam as they approach Mount Doom with the One Ring.</div>,\n",
       " <div class=\"ipc-html-content-inner-div\" role=\"presentation\">Lion prince Simba and his father are targeted by his bitter uncle, who wants to ascend the throne himself.</div>,\n",
       " <div class=\"ipc-html-content-inner-div\" role=\"presentation\">Based on the true story of Jordan Belfort, from his rise to a wealthy stock-broker living the high life to his fall involving crime, corruption and the federal government.</div>]"
      ]
     },
     "execution_count": 93,
     "metadata": {},
     "output_type": "execute_result"
    }
   ],
   "source": [
    "# Getting the movie description\n",
    "movie_description = soup.find_all('div', class_=\"ipc-html-content-inner-div\")\n",
    "movie_description"
   ]
  },
  {
   "cell_type": "code",
   "execution_count": 97,
   "id": "b0e8c797-8328-414a-b45d-5a9dfe12d831",
   "metadata": {},
   "outputs": [
    {
     "data": {
      "text/plain": [
       "['A former Roman General sets out to exact vengeance against the corrupt emperor who murdered his family and sent him into slavery.',\n",
       " 'When Earth becomes uninhabitable in the future, a farmer and ex-NASA pilot, Joseph Cooper, is tasked to pilot a spacecraft, along with a team of researchers, to find a new planet for humans.',\n",
       " 'Paul Atreides unites with the Fremen while on a warpath of revenge against the conspirators who destroyed his family. Facing a choice between the love of his life and the fate of the universe, he endeavors to prevent a terrible future.',\n",
       " \"After a shipwreck, an intelligent robot called Roz is stranded on an uninhabited island. To survive the harsh environment, Roz bonds with the island's animals and cares for an orphaned baby goose.\",\n",
       " 'A dramatization of the life story of J. Robert Oppenheimer, the physicist who had a large hand in the development of the atomic bombs that brought an end to World War II.',\n",
       " 'The aging patriarch of an organized crime dynasty transfers control of his clandestine empire to his reluctant son.',\n",
       " 'A banker convicted of uxoricide forms a friendship over a quarter century with a hardened convict, while maintaining his innocence and trying to remain hopeful through simple compassion.',\n",
       " 'A meek Hobbit from the Shire and eight companions set out on a journey to destroy the powerful One Ring and save Middle-earth from the Dark Lord Sauron.',\n",
       " 'A New York City police officer tries to save his estranged wife and several others taken hostage by terrorists during a Christmas party at the Nakatomi Plaza in Los Angeles.',\n",
       " 'After finding an old rifle, a young boy joins the Soviet resistance movement against ruthless German forces and experiences the horrors of World War II.',\n",
       " \"In Nazi-occupied France during World War II, a plan to assassinate Nazi leaders by a group of Jewish U.S. soldiers coincides with a theatre owner's vengeful plans for the same.\",\n",
       " 'A young novice is sent by her convent in 1930s Austria to become a governess to the seven children of a widowed naval officer.',\n",
       " 'A thief who steals corporate secrets through the use of dream-sharing technology is given the inverse task of planting an idea into the mind of a C.E.O., but his tragic past may doom the project and his team to disaster.',\n",
       " 'An angel is sent from Heaven to help a desperately frustrated businessman by showing him what life would have been like if he had never existed.',\n",
       " 'In a post-apocalyptic wasteland, a woman rebels against a tyrannical ruler in search for her homeland with the aid of a group of female prisoners, a psychotic worshipper and a drifter named Max.',\n",
       " 'When a menace known as the Joker wreaks havoc and chaos on the people of Gotham, Batman, James Gordon and Harvey Dent must work together to put an end to the madness.',\n",
       " 'The lives of two mob hitmen, a boxer, a gangster and his wife, and a pair of diner bandits intertwine in four tales of violence and redemption.',\n",
       " 'Two detectives, a rookie and a veteran, hunt a serial killer who uses the seven deadly sins as his motives.',\n",
       " 'As the battle between the forces of good and evil in the wizarding world escalates, Harry Potter draws ever closer to his final confrontation with Voldemort.',\n",
       " \"Young Dorothy Gale and her dog Toto are swept away by a tornado from their Kansas farm to the magical Land of Oz and embark on a quest with three new friends to see the Wizard, who can return her to her home and fulfill the others' wishes.\",\n",
       " 'The story involves Maverick confronting his past while training a group of younger Top Gun graduates, including the son of his deceased best friend, for a dangerous mission.',\n",
       " 'Greed and class discrimination threaten the newly formed symbiotic relationship between the wealthy Park family and the destitute Kim clan.',\n",
       " \"Gandalf and Aragorn lead the World of Men against Sauron's army to draw his gaze from Frodo and Sam as they approach Mount Doom with the One Ring.\",\n",
       " 'Lion prince Simba and his father are targeted by his bitter uncle, who wants to ascend the throne himself.',\n",
       " 'Based on the true story of Jordan Belfort, from his rise to a wealthy stock-broker living the high life to his fall involving crime, corruption and the federal government.']"
      ]
     },
     "execution_count": 97,
     "metadata": {},
     "output_type": "execute_result"
    }
   ],
   "source": [
    "# Getting the movie description without the tag\n",
    "descriptions = []\n",
    "\n",
    "for descrip in movie_description:\n",
    "    desc_text = descrip.get_text()\n",
    "    descriptions.append(desc_text)\n",
    "descriptions"
   ]
  },
  {
   "cell_type": "markdown",
   "id": "b5599c4d-d618-4565-8814-d482bbf4c2cb",
   "metadata": {},
   "source": [
    "### **Store the scraped data into a DataFrame**"
   ]
  },
  {
   "cell_type": "code",
   "execution_count": 118,
   "id": "4e3e8d80-cf95-425a-a340-14d0196b3b4a",
   "metadata": {},
   "outputs": [],
   "source": [
    "# Filling missing data in metascore\n",
    "import numpy as np\n",
    "\n",
    "metascores = [\n",
    "    '67', '74', '79', '85', '90', '100', '82', '92', '72', '69', '63', '74', \n",
    "    '89', '90', '84', '95', '65', '85', '92', '78', '97', '94', '88', '75'\n",
    "]\n",
    "\n",
    "# filling metascore\n",
    "metascores.insert(9, '0')"
   ]
  },
  {
   "cell_type": "code",
   "execution_count": 120,
   "id": "b216bfd9-4fcf-4585-a32e-06489907776b",
   "metadata": {},
   "outputs": [
    {
     "data": {
      "text/html": [
       "<div>\n",
       "<style scoped>\n",
       "    .dataframe tbody tr th:only-of-type {\n",
       "        vertical-align: middle;\n",
       "    }\n",
       "\n",
       "    .dataframe tbody tr th {\n",
       "        vertical-align: top;\n",
       "    }\n",
       "\n",
       "    .dataframe thead th {\n",
       "        text-align: right;\n",
       "    }\n",
       "</style>\n",
       "<table border=\"1\" class=\"dataframe\">\n",
       "  <thead>\n",
       "    <tr style=\"text-align: right;\">\n",
       "      <th></th>\n",
       "      <th>Titles</th>\n",
       "      <th>Ranks</th>\n",
       "      <th>Release_Year</th>\n",
       "      <th>Runtime</th>\n",
       "      <th>Certifications</th>\n",
       "      <th>Ratings</th>\n",
       "      <th>Votes</th>\n",
       "      <th>Metascore</th>\n",
       "      <th>Movie_Descriptions</th>\n",
       "    </tr>\n",
       "  </thead>\n",
       "  <tbody>\n",
       "    <tr>\n",
       "      <th>0</th>\n",
       "      <td>Gladiator</td>\n",
       "      <td>1</td>\n",
       "      <td>2000</td>\n",
       "      <td>2h 35m</td>\n",
       "      <td>R</td>\n",
       "      <td>8.5</td>\n",
       "      <td>1.7M</td>\n",
       "      <td>67</td>\n",
       "      <td>A former Roman General sets out to exact venge...</td>\n",
       "    </tr>\n",
       "    <tr>\n",
       "      <th>1</th>\n",
       "      <td>Interstellar</td>\n",
       "      <td>2</td>\n",
       "      <td>2014</td>\n",
       "      <td>2h 49m</td>\n",
       "      <td>PG-13</td>\n",
       "      <td>8.7</td>\n",
       "      <td>2.2M</td>\n",
       "      <td>74</td>\n",
       "      <td>When Earth becomes uninhabitable in the future...</td>\n",
       "    </tr>\n",
       "    <tr>\n",
       "      <th>2</th>\n",
       "      <td>Dune: Part Two</td>\n",
       "      <td>3</td>\n",
       "      <td>2024</td>\n",
       "      <td>2h 46m</td>\n",
       "      <td>PG-13</td>\n",
       "      <td>8.5</td>\n",
       "      <td>579K</td>\n",
       "      <td>79</td>\n",
       "      <td>Paul Atreides unites with the Fremen while on ...</td>\n",
       "    </tr>\n",
       "    <tr>\n",
       "      <th>3</th>\n",
       "      <td>The Wild Robot</td>\n",
       "      <td>4</td>\n",
       "      <td>2024</td>\n",
       "      <td>1h 42m</td>\n",
       "      <td>PG</td>\n",
       "      <td>8.2</td>\n",
       "      <td>113K</td>\n",
       "      <td>85</td>\n",
       "      <td>After a shipwreck, an intelligent robot called...</td>\n",
       "    </tr>\n",
       "    <tr>\n",
       "      <th>4</th>\n",
       "      <td>Oppenheimer</td>\n",
       "      <td>5</td>\n",
       "      <td>2023</td>\n",
       "      <td>3h</td>\n",
       "      <td>R</td>\n",
       "      <td>8.3</td>\n",
       "      <td>838K</td>\n",
       "      <td>90</td>\n",
       "      <td>A dramatization of the life story of J. Robert...</td>\n",
       "    </tr>\n",
       "    <tr>\n",
       "      <th>5</th>\n",
       "      <td>The Godfather</td>\n",
       "      <td>6</td>\n",
       "      <td>1972</td>\n",
       "      <td>2h 55m</td>\n",
       "      <td>R</td>\n",
       "      <td>9.2</td>\n",
       "      <td>2.1M</td>\n",
       "      <td>100</td>\n",
       "      <td>The aging patriarch of an organized crime dyna...</td>\n",
       "    </tr>\n",
       "    <tr>\n",
       "      <th>6</th>\n",
       "      <td>The Shawshank Redemption</td>\n",
       "      <td>7</td>\n",
       "      <td>1994</td>\n",
       "      <td>2h 22m</td>\n",
       "      <td>R</td>\n",
       "      <td>9.3</td>\n",
       "      <td>3M</td>\n",
       "      <td>82</td>\n",
       "      <td>A banker convicted of uxoricide forms a friend...</td>\n",
       "    </tr>\n",
       "    <tr>\n",
       "      <th>7</th>\n",
       "      <td>The Lord of the Rings: The Fellowship of the Ring</td>\n",
       "      <td>8</td>\n",
       "      <td>2001</td>\n",
       "      <td>2h 58m</td>\n",
       "      <td>PG-13</td>\n",
       "      <td>8.9</td>\n",
       "      <td>2.1M</td>\n",
       "      <td>92</td>\n",
       "      <td>A meek Hobbit from the Shire and eight compani...</td>\n",
       "    </tr>\n",
       "    <tr>\n",
       "      <th>8</th>\n",
       "      <td>Die Hard</td>\n",
       "      <td>9</td>\n",
       "      <td>1988</td>\n",
       "      <td>2h 12m</td>\n",
       "      <td>R</td>\n",
       "      <td>8.2</td>\n",
       "      <td>979K</td>\n",
       "      <td>72</td>\n",
       "      <td>A New York City police officer tries to save h...</td>\n",
       "    </tr>\n",
       "    <tr>\n",
       "      <th>9</th>\n",
       "      <td>Come and See</td>\n",
       "      <td>10</td>\n",
       "      <td>1985</td>\n",
       "      <td>2h 22m</td>\n",
       "      <td>Not Rated</td>\n",
       "      <td>8.3</td>\n",
       "      <td>108K</td>\n",
       "      <td>0</td>\n",
       "      <td>After finding an old rifle, a young boy joins ...</td>\n",
       "    </tr>\n",
       "    <tr>\n",
       "      <th>10</th>\n",
       "      <td>Inglourious Basterds</td>\n",
       "      <td>11</td>\n",
       "      <td>2009</td>\n",
       "      <td>2h 33m</td>\n",
       "      <td>R</td>\n",
       "      <td>8.4</td>\n",
       "      <td>1.6M</td>\n",
       "      <td>69</td>\n",
       "      <td>In Nazi-occupied France during World War II, a...</td>\n",
       "    </tr>\n",
       "    <tr>\n",
       "      <th>11</th>\n",
       "      <td>The Sound of Music</td>\n",
       "      <td>12</td>\n",
       "      <td>1965</td>\n",
       "      <td>2h 52m</td>\n",
       "      <td>G</td>\n",
       "      <td>8.1</td>\n",
       "      <td>271K</td>\n",
       "      <td>63</td>\n",
       "      <td>A young novice is sent by her convent in 1930s...</td>\n",
       "    </tr>\n",
       "    <tr>\n",
       "      <th>12</th>\n",
       "      <td>Inception</td>\n",
       "      <td>13</td>\n",
       "      <td>2010</td>\n",
       "      <td>2h 28m</td>\n",
       "      <td>PG-13</td>\n",
       "      <td>8.8</td>\n",
       "      <td>2.6M</td>\n",
       "      <td>74</td>\n",
       "      <td>A thief who steals corporate secrets through t...</td>\n",
       "    </tr>\n",
       "    <tr>\n",
       "      <th>13</th>\n",
       "      <td>It's a Wonderful Life</td>\n",
       "      <td>14</td>\n",
       "      <td>1946</td>\n",
       "      <td>2h 10m</td>\n",
       "      <td>PG</td>\n",
       "      <td>8.6</td>\n",
       "      <td>521K</td>\n",
       "      <td>89</td>\n",
       "      <td>An angel is sent from Heaven to help a despera...</td>\n",
       "    </tr>\n",
       "    <tr>\n",
       "      <th>14</th>\n",
       "      <td>Mad Max: Fury Road</td>\n",
       "      <td>15</td>\n",
       "      <td>2015</td>\n",
       "      <td>2h</td>\n",
       "      <td>R</td>\n",
       "      <td>8.1</td>\n",
       "      <td>1.1M</td>\n",
       "      <td>90</td>\n",
       "      <td>In a post-apocalyptic wasteland, a woman rebel...</td>\n",
       "    </tr>\n",
       "    <tr>\n",
       "      <th>15</th>\n",
       "      <td>The Dark Knight</td>\n",
       "      <td>16</td>\n",
       "      <td>2008</td>\n",
       "      <td>2h 32m</td>\n",
       "      <td>PG-13</td>\n",
       "      <td>9.0</td>\n",
       "      <td>3M</td>\n",
       "      <td>84</td>\n",
       "      <td>When a menace known as the Joker wreaks havoc ...</td>\n",
       "    </tr>\n",
       "    <tr>\n",
       "      <th>16</th>\n",
       "      <td>Pulp Fiction</td>\n",
       "      <td>17</td>\n",
       "      <td>1994</td>\n",
       "      <td>2h 34m</td>\n",
       "      <td>R</td>\n",
       "      <td>8.9</td>\n",
       "      <td>2.3M</td>\n",
       "      <td>95</td>\n",
       "      <td>The lives of two mob hitmen, a boxer, a gangst...</td>\n",
       "    </tr>\n",
       "    <tr>\n",
       "      <th>17</th>\n",
       "      <td>Se7en</td>\n",
       "      <td>18</td>\n",
       "      <td>1995</td>\n",
       "      <td>2h 7m</td>\n",
       "      <td>R</td>\n",
       "      <td>8.6</td>\n",
       "      <td>1.9M</td>\n",
       "      <td>65</td>\n",
       "      <td>Two detectives, a rookie and a veteran, hunt a...</td>\n",
       "    </tr>\n",
       "    <tr>\n",
       "      <th>18</th>\n",
       "      <td>Harry Potter and the Deathly Hallows: Part 2</td>\n",
       "      <td>19</td>\n",
       "      <td>2011</td>\n",
       "      <td>2h 10m</td>\n",
       "      <td>PG-13</td>\n",
       "      <td>8.1</td>\n",
       "      <td>981K</td>\n",
       "      <td>85</td>\n",
       "      <td>As the battle between the forces of good and e...</td>\n",
       "    </tr>\n",
       "    <tr>\n",
       "      <th>19</th>\n",
       "      <td>The Wizard of Oz</td>\n",
       "      <td>20</td>\n",
       "      <td>1939</td>\n",
       "      <td>1h 42m</td>\n",
       "      <td>G</td>\n",
       "      <td>8.1</td>\n",
       "      <td>444K</td>\n",
       "      <td>92</td>\n",
       "      <td>Young Dorothy Gale and her dog Toto are swept ...</td>\n",
       "    </tr>\n",
       "    <tr>\n",
       "      <th>20</th>\n",
       "      <td>Top Gun: Maverick</td>\n",
       "      <td>21</td>\n",
       "      <td>2022</td>\n",
       "      <td>2h 10m</td>\n",
       "      <td>PG-13</td>\n",
       "      <td>8.2</td>\n",
       "      <td>751K</td>\n",
       "      <td>78</td>\n",
       "      <td>The story involves Maverick confronting his pa...</td>\n",
       "    </tr>\n",
       "    <tr>\n",
       "      <th>21</th>\n",
       "      <td>Parasite</td>\n",
       "      <td>22</td>\n",
       "      <td>2019</td>\n",
       "      <td>2h 12m</td>\n",
       "      <td>R</td>\n",
       "      <td>8.5</td>\n",
       "      <td>1M</td>\n",
       "      <td>97</td>\n",
       "      <td>Greed and class discrimination threaten the ne...</td>\n",
       "    </tr>\n",
       "    <tr>\n",
       "      <th>22</th>\n",
       "      <td>The Lord of the Rings: The Return of the King</td>\n",
       "      <td>23</td>\n",
       "      <td>2003</td>\n",
       "      <td>3h 21m</td>\n",
       "      <td>PG-13</td>\n",
       "      <td>9.0</td>\n",
       "      <td>2M</td>\n",
       "      <td>94</td>\n",
       "      <td>Gandalf and Aragorn lead the World of Men agai...</td>\n",
       "    </tr>\n",
       "    <tr>\n",
       "      <th>23</th>\n",
       "      <td>The Lion King</td>\n",
       "      <td>24</td>\n",
       "      <td>1994</td>\n",
       "      <td>1h 28m</td>\n",
       "      <td>G</td>\n",
       "      <td>8.5</td>\n",
       "      <td>1.2M</td>\n",
       "      <td>88</td>\n",
       "      <td>Lion prince Simba and his father are targeted ...</td>\n",
       "    </tr>\n",
       "    <tr>\n",
       "      <th>24</th>\n",
       "      <td>The Wolf of Wall Street</td>\n",
       "      <td>25</td>\n",
       "      <td>2013</td>\n",
       "      <td>3h</td>\n",
       "      <td>R</td>\n",
       "      <td>8.2</td>\n",
       "      <td>1.7M</td>\n",
       "      <td>75</td>\n",
       "      <td>Based on the true story of Jordan Belfort, fro...</td>\n",
       "    </tr>\n",
       "  </tbody>\n",
       "</table>\n",
       "</div>"
      ],
      "text/plain": [
       "                                               Titles Ranks Release_Year  \\\n",
       "0                                           Gladiator     1         2000   \n",
       "1                                        Interstellar     2         2014   \n",
       "2                                      Dune: Part Two     3         2024   \n",
       "3                                      The Wild Robot     4         2024   \n",
       "4                                         Oppenheimer     5         2023   \n",
       "5                                       The Godfather     6         1972   \n",
       "6                            The Shawshank Redemption     7         1994   \n",
       "7   The Lord of the Rings: The Fellowship of the Ring     8         2001   \n",
       "8                                            Die Hard     9         1988   \n",
       "9                                        Come and See    10         1985   \n",
       "10                               Inglourious Basterds    11         2009   \n",
       "11                                 The Sound of Music    12         1965   \n",
       "12                                          Inception    13         2010   \n",
       "13                              It's a Wonderful Life    14         1946   \n",
       "14                                 Mad Max: Fury Road    15         2015   \n",
       "15                                    The Dark Knight    16         2008   \n",
       "16                                       Pulp Fiction    17         1994   \n",
       "17                                              Se7en    18         1995   \n",
       "18       Harry Potter and the Deathly Hallows: Part 2    19         2011   \n",
       "19                                   The Wizard of Oz    20         1939   \n",
       "20                                  Top Gun: Maverick    21         2022   \n",
       "21                                           Parasite    22         2019   \n",
       "22      The Lord of the Rings: The Return of the King    23         2003   \n",
       "23                                      The Lion King    24         1994   \n",
       "24                            The Wolf of Wall Street    25         2013   \n",
       "\n",
       "   Runtime Certifications Ratings Votes Metascore  \\\n",
       "0   2h 35m              R     8.5  1.7M        67   \n",
       "1   2h 49m          PG-13     8.7  2.2M        74   \n",
       "2   2h 46m          PG-13     8.5  579K        79   \n",
       "3   1h 42m             PG     8.2  113K        85   \n",
       "4       3h              R     8.3  838K        90   \n",
       "5   2h 55m              R     9.2  2.1M       100   \n",
       "6   2h 22m              R     9.3    3M        82   \n",
       "7   2h 58m          PG-13     8.9  2.1M        92   \n",
       "8   2h 12m              R     8.2  979K        72   \n",
       "9   2h 22m      Not Rated     8.3  108K         0   \n",
       "10  2h 33m              R     8.4  1.6M        69   \n",
       "11  2h 52m              G     8.1  271K        63   \n",
       "12  2h 28m          PG-13     8.8  2.6M        74   \n",
       "13  2h 10m             PG     8.6  521K        89   \n",
       "14      2h              R     8.1  1.1M        90   \n",
       "15  2h 32m          PG-13     9.0    3M        84   \n",
       "16  2h 34m              R     8.9  2.3M        95   \n",
       "17   2h 7m              R     8.6  1.9M        65   \n",
       "18  2h 10m          PG-13     8.1  981K        85   \n",
       "19  1h 42m              G     8.1  444K        92   \n",
       "20  2h 10m          PG-13     8.2  751K        78   \n",
       "21  2h 12m              R     8.5    1M        97   \n",
       "22  3h 21m          PG-13     9.0    2M        94   \n",
       "23  1h 28m              G     8.5  1.2M        88   \n",
       "24      3h              R     8.2  1.7M        75   \n",
       "\n",
       "                                   Movie_Descriptions  \n",
       "0   A former Roman General sets out to exact venge...  \n",
       "1   When Earth becomes uninhabitable in the future...  \n",
       "2   Paul Atreides unites with the Fremen while on ...  \n",
       "3   After a shipwreck, an intelligent robot called...  \n",
       "4   A dramatization of the life story of J. Robert...  \n",
       "5   The aging patriarch of an organized crime dyna...  \n",
       "6   A banker convicted of uxoricide forms a friend...  \n",
       "7   A meek Hobbit from the Shire and eight compani...  \n",
       "8   A New York City police officer tries to save h...  \n",
       "9   After finding an old rifle, a young boy joins ...  \n",
       "10  In Nazi-occupied France during World War II, a...  \n",
       "11  A young novice is sent by her convent in 1930s...  \n",
       "12  A thief who steals corporate secrets through t...  \n",
       "13  An angel is sent from Heaven to help a despera...  \n",
       "14  In a post-apocalyptic wasteland, a woman rebel...  \n",
       "15  When a menace known as the Joker wreaks havoc ...  \n",
       "16  The lives of two mob hitmen, a boxer, a gangst...  \n",
       "17  Two detectives, a rookie and a veteran, hunt a...  \n",
       "18  As the battle between the forces of good and e...  \n",
       "19  Young Dorothy Gale and her dog Toto are swept ...  \n",
       "20  The story involves Maverick confronting his pa...  \n",
       "21  Greed and class discrimination threaten the ne...  \n",
       "22  Gandalf and Aragorn lead the World of Men agai...  \n",
       "23  Lion prince Simba and his father are targeted ...  \n",
       "24  Based on the true story of Jordan Belfort, fro...  "
      ]
     },
     "execution_count": 120,
     "metadata": {},
     "output_type": "execute_result"
    }
   ],
   "source": [
    "movie_data = pd.DataFrame()\n",
    "movie_data['Titles'] = titles\n",
    "movie_data['Ranks'] = ranks\n",
    "movie_data['Release_Year']= released_years\n",
    "movie_data['Runtime'] = runtime\n",
    "movie_data['Certifications'] = certifications\n",
    "movie_data['Ratings'] = ratings\n",
    "movie_data['Votes'] = vote_counts\n",
    "movie_data['Metascore'] = metascores\n",
    "movie_data['Movie_Descriptions'] = descriptions\n",
    "\n",
    "movie_data"
   ]
  },
  {
   "cell_type": "code",
   "execution_count": 122,
   "id": "18b7d361-dd1a-44f9-b012-5cd46fff571e",
   "metadata": {},
   "outputs": [],
   "source": [
    "# Exporting the dataset\n",
    "movie_data.to_csv('top_imdb_movies.csv', index=False)"
   ]
  },
  {
   "cell_type": "code",
   "execution_count": null,
   "id": "3bcbace8-506f-47cf-9560-ecd8aab7c0a1",
   "metadata": {},
   "outputs": [],
   "source": []
  }
 ],
 "metadata": {
  "kernelspec": {
   "display_name": "Python 3 (ipykernel)",
   "language": "python",
   "name": "python3"
  },
  "language_info": {
   "codemirror_mode": {
    "name": "ipython",
    "version": 3
   },
   "file_extension": ".py",
   "mimetype": "text/x-python",
   "name": "python",
   "nbconvert_exporter": "python",
   "pygments_lexer": "ipython3",
   "version": "3.12.7"
  }
 },
 "nbformat": 4,
 "nbformat_minor": 5
}
