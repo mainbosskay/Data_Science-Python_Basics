{
 "cells": [
  {
   "cell_type": "markdown",
   "id": "357eb19b-e49d-4c65-838e-c9843bad54ab",
   "metadata": {},
   "source": [
    "# Assignment"
   ]
  },
  {
   "cell_type": "markdown",
   "id": "e86d1c62-2b6d-4fa5-9862-c28924c819be",
   "metadata": {},
   "source": [
    "## Loops\n",
    "This is an assignment to showcase my understanding on Loops by using the\n",
    "For Loops and\n",
    "While Loops"
   ]
  },
  {
   "cell_type": "markdown",
   "id": "032ee86c-3bf9-4ea2-8db9-5b512652cbc7",
   "metadata": {},
   "source": [
    "### While Loop"
   ]
  },
  {
   "cell_type": "code",
   "execution_count": 34,
   "id": "5a774d39-18fd-4032-87fa-4a7a27e59068",
   "metadata": {},
   "outputs": [
    {
     "name": "stdout",
     "output_type": "stream",
     "text": [
      "     *\n",
      "    **\n",
      "   ***\n",
      "  ****\n",
      " *****\n",
      "******\n",
      "******\n",
      " *****\n",
      "  ****\n",
      "   ***\n",
      "    **\n",
      "     *\n",
      "      \n"
     ]
    }
   ],
   "source": [
    "line = '*'\n",
    "max_length = 6\n",
    "while len(line) <= max_length:\n",
    "    # Calulate spaces to add * to the middle\n",
    "    spaces = ' ' * (max_length - len(line))\n",
    "    print(spaces + line)\n",
    "    line = line + \"*\"\n",
    "while len(line) > 0:\n",
    "    line = line[:-1]\n",
    "    spaces = ' ' * (max_length - len(line))\n",
    "    # Print the rows with * and space\n",
    "    print(spaces + line)"
   ]
  },
  {
   "cell_type": "code",
   "execution_count": 44,
   "id": "53d2fc95-5041-40b2-9593-60d9a5866605",
   "metadata": {},
   "outputs": [
    {
     "name": "stdout",
     "output_type": "stream",
     "text": [
      "     *\n",
      "    ***\n",
      "   *****\n",
      "  *******\n",
      " *********\n",
      "***********\n",
      " *********\n",
      "  *******\n",
      "   *****\n",
      "    ***\n",
      "     *\n"
     ]
    }
   ],
   "source": [
    "max_length = 6\n",
    "space = max_length - 1\n",
    "\n",
    "while space >= 0:\n",
    "    # Print space then the first *\n",
    "    print(' ' * space + \"*\" * (2*(max_length - space)-1))\n",
    "    space = space - 1\n",
    "\n",
    "space = 1\n",
    "while space <= max_length - 1:\n",
    "    print(' ' * space + \"*\" * (2*(max_length - space)-1))\n",
    "    space = space + 1"
   ]
  },
  {
   "cell_type": "code",
   "execution_count": 11,
   "id": "ac5328bb-c0ee-4bf9-aed2-58b645ea3f7b",
   "metadata": {},
   "outputs": [
    {
     "name": "stdin",
     "output_type": "stream",
     "text": [
      "Enter your balance: $  5000\n",
      "Your balance is $5000.0, How much would you like to withdraw?! $ 3000\n"
     ]
    },
    {
     "name": "stdout",
     "output_type": "stream",
     "text": [
      "Transaction is processing\n",
      "------------------------------------------------------------\n",
      "You have successfully withdrawn $3000.0. Your balance is $2000.0\n"
     ]
    },
    {
     "name": "stdin",
     "output_type": "stream",
     "text": [
      "Would you like to perform another transaction? (yes/no):  yes\n",
      "Your balance is $2000.0, How much would you like to withdraw?! $ 6000\n"
     ]
    },
    {
     "name": "stdout",
     "output_type": "stream",
     "text": [
      "Insufficient funds! You only have $2000.0 available!\n"
     ]
    },
    {
     "name": "stdin",
     "output_type": "stream",
     "text": [
      "Your balance is $2000.0, Would you like to perform another transaction? (yes/no):  no\n"
     ]
    },
    {
     "name": "stdout",
     "output_type": "stream",
     "text": [
      "Thank you for banking with us!\n"
     ]
    }
   ],
   "source": [
    "balance = float(input('Enter your balance: $ '))\n",
    "withdrawal_amount = 0\n",
    "\n",
    "while balance > 0:\n",
    "    # ask for the withdrawal amount\n",
    "    withdrawal_amount = float(input(f'Your balance is ${balance}, How much would you like to withdraw?! $'))\n",
    "    \n",
    "    # check if the amount is > 0\n",
    "    if withdrawal_amount <= 0:\n",
    "        print('Please enter an amount greater than 0')\n",
    "\n",
    "    # check if the balance is sufficient\n",
    "    if withdrawal_amount > balance:\n",
    "        print(f'Insufficient funds! You only have ${balance} available!')\n",
    "        another_transaction = input(f'Your balance is ${balance}, Would you like to perform another transaction? (yes/no): ').strip().lower()\n",
    "        if another_transaction != 'yes':\n",
    "            print('Thank you for banking with us!')\n",
    "            break\n",
    "        else:\n",
    "            continue\n",
    "\n",
    "    # Deduct amount from balance\n",
    "    balance -= withdrawal_amount\n",
    "    print('Transaction is processing')\n",
    "    print('---'* 20)\n",
    "    print(f'You have successfully withdrawn ${withdrawal_amount}. Your balance is ${balance}')\n",
    "\n",
    "    # Asking if the you wants to perform another transaction\n",
    "    if balance > 0:\n",
    "        another_transaction = input('Would you like to perform another transaction? (yes/no): ').strip().lower()\n",
    "        if another_transaction != 'yes':\n",
    "            print('Thank you for banking with us!')\n",
    "            break\n",
    "\n",
    "    # check if balance is 0\n",
    "    if balance == 0:\n",
    "        print('Your balance is 0. Thank you for banking with us')\n",
    "        break"
   ]
  },
  {
   "cell_type": "markdown",
   "id": "00dc34fd-7a2d-4922-a810-487f4e659a87",
   "metadata": {},
   "source": [
    "### For Loop"
   ]
  },
  {
   "cell_type": "code",
   "execution_count": 56,
   "id": "8f5f5fd4-2d0f-40eb-a525-bb4c722be7db",
   "metadata": {},
   "outputs": [
    {
     "name": "stdout",
     "output_type": "stream",
     "text": [
      "Multiplication 1 Table\n",
      "============================================================\n",
      "1 * 1 = 1\n",
      "1 * 2 = 2\n",
      "1 * 3 = 3\n",
      "1 * 4 = 4\n",
      "1 * 5 = 5\n",
      "1 * 6 = 6\n",
      "1 * 7 = 7\n",
      "1 * 8 = 8\n",
      "1 * 9 = 9\n",
      "1 * 10 = 10\n",
      "1 * 11 = 11\n",
      "1 * 12 = 12\n",
      "============================================================\n",
      "Multiplication 2 Table\n",
      "============================================================\n",
      "2 * 1 = 2\n",
      "2 * 2 = 4\n",
      "2 * 3 = 6\n",
      "2 * 4 = 8\n",
      "2 * 5 = 10\n",
      "2 * 6 = 12\n",
      "2 * 7 = 14\n",
      "2 * 8 = 16\n",
      "2 * 9 = 18\n",
      "2 * 10 = 20\n",
      "2 * 11 = 22\n",
      "2 * 12 = 24\n",
      "============================================================\n",
      "Multiplication 3 Table\n",
      "============================================================\n",
      "3 * 1 = 3\n",
      "3 * 2 = 6\n",
      "3 * 3 = 9\n",
      "3 * 4 = 12\n",
      "3 * 5 = 15\n",
      "3 * 6 = 18\n",
      "3 * 7 = 21\n",
      "3 * 8 = 24\n",
      "3 * 9 = 27\n",
      "3 * 10 = 30\n",
      "3 * 11 = 33\n",
      "3 * 12 = 36\n",
      "============================================================\n",
      "Multiplication 4 Table\n",
      "============================================================\n",
      "4 * 1 = 4\n",
      "4 * 2 = 8\n",
      "4 * 3 = 12\n",
      "4 * 4 = 16\n",
      "4 * 5 = 20\n",
      "4 * 6 = 24\n",
      "4 * 7 = 28\n",
      "4 * 8 = 32\n",
      "4 * 9 = 36\n",
      "4 * 10 = 40\n",
      "4 * 11 = 44\n",
      "4 * 12 = 48\n",
      "============================================================\n",
      "Multiplication 5 Table\n",
      "============================================================\n",
      "5 * 1 = 5\n",
      "5 * 2 = 10\n",
      "5 * 3 = 15\n",
      "5 * 4 = 20\n",
      "5 * 5 = 25\n",
      "5 * 6 = 30\n",
      "5 * 7 = 35\n",
      "5 * 8 = 40\n",
      "5 * 9 = 45\n",
      "5 * 10 = 50\n",
      "5 * 11 = 55\n",
      "5 * 12 = 60\n",
      "============================================================\n"
     ]
    }
   ],
   "source": [
    "for i in range(1, 6):\n",
    "    # Heading for the current multplication table\n",
    "    print(f'Multiplication {i} Table')\n",
    "    print('===' * 20)\n",
    "    for j in range(1, 13):\n",
    "        # print the result\n",
    "        print(f'{i} * {j} = {i * j}')\n",
    "    print('==='*20)"
   ]
  },
  {
   "cell_type": "code",
   "execution_count": null,
   "id": "4b225274-e86d-401e-ab59-7f919ab963ea",
   "metadata": {},
   "outputs": [],
   "source": []
  }
 ],
 "metadata": {
  "kernelspec": {
   "display_name": "Python 3 (ipykernel)",
   "language": "python",
   "name": "python3"
  },
  "language_info": {
   "codemirror_mode": {
    "name": "ipython",
    "version": 3
   },
   "file_extension": ".py",
   "mimetype": "text/x-python",
   "name": "python",
   "nbconvert_exporter": "python",
   "pygments_lexer": "ipython3",
   "version": "3.12.7"
  }
 },
 "nbformat": 4,
 "nbformat_minor": 5
}
