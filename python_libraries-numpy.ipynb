{
 "cells": [
  {
   "cell_type": "markdown",
   "id": "717f2f35-7a96-4475-88a0-fa4628dd0f28",
   "metadata": {},
   "source": [
    "# Numpy"
   ]
  },
  {
   "cell_type": "markdown",
   "id": "ad337f93-dcda-442f-a063-1db25327800e",
   "metadata": {},
   "source": [
    "### Numerical Python"
   ]
  },
  {
   "cell_type": "markdown",
   "id": "94ac9bdb-f4e5-4279-ae4c-51a0e2865ad0",
   "metadata": {},
   "source": [
    "Numpy is a fundamental package for scientific computing in python. it provides support for large multi-dimensional arrays and matrices, along with a collection of mathematical functions to operate on these arrays. Numpy is widely used for numerical computation in various domains, including datascience, machine learning and engineering. \n",
    "\n",
    "Numpy handles, 1D(vector), 2D, 3D, and other high-dimensional array"
   ]
  },
  {
   "cell_type": "code",
   "execution_count": 2,
   "id": "3dce186a-8800-48ee-946c-5db768f1c002",
   "metadata": {},
   "outputs": [
    {
     "name": "stdout",
     "output_type": "stream",
     "text": [
      "Requirement already satisfied: numpy in /opt/anaconda3/lib/python3.12/site-packages (1.26.4)\n"
     ]
    }
   ],
   "source": [
    "# installation on Numpy\n",
    "!pip install numpy"
   ]
  },
  {
   "cell_type": "code",
   "execution_count": 4,
   "id": "09b6ec0c-df53-4d58-8323-458afcc3aad4",
   "metadata": {},
   "outputs": [],
   "source": [
    "# importing numpy\n",
    "import numpy as np"
   ]
  },
  {
   "cell_type": "markdown",
   "id": "c681a287-db5b-483b-8b82-a05a42ac4866",
   "metadata": {},
   "source": [
    "### Creating arrays\n",
    "Creation of arrays involves using pythons numpy library, which provides a powerful array object called ndarray."
   ]
  },
  {
   "cell_type": "markdown",
   "id": "5e32bb09-0736-4df8-994c-593687212951",
   "metadata": {},
   "source": [
    "### Creating Arrays from Lists\n",
    "Arrays can be created directly from python list using the numpy array function"
   ]
  },
  {
   "cell_type": "code",
   "execution_count": 9,
   "id": "6f36b6ec-adf6-45af-9cf4-9d8c15a9fe5b",
   "metadata": {},
   "outputs": [
    {
     "data": {
      "text/plain": [
       "array([15, 30, 45, 60])"
      ]
     },
     "execution_count": 9,
     "metadata": {},
     "output_type": "execute_result"
    }
   ],
   "source": [
    "# creating 1D(vector) array\n",
    "arr1 = np.array([15, 30, 45, 60])\n",
    "arr1"
   ]
  },
  {
   "cell_type": "code",
   "execution_count": 11,
   "id": "86ee3fa6-3f11-41d6-9267-ebe99bddec54",
   "metadata": {},
   "outputs": [
    {
     "data": {
      "text/plain": [
       "array([2, 4, 6, 8])"
      ]
     },
     "execution_count": 11,
     "metadata": {},
     "output_type": "execute_result"
    }
   ],
   "source": [
    "# convert list to array\n",
    "i = [2, 4, 6, 8]\n",
    "np.array(i)"
   ]
  },
  {
   "cell_type": "code",
   "execution_count": 17,
   "id": "dbdb86d7-29fa-47c1-8473-f36464c5f1b9",
   "metadata": {},
   "outputs": [
    {
     "data": {
      "text/plain": [
       "array([[ 2,  4,  6],\n",
       "       [ 3,  5,  7],\n",
       "       [ 1,  5, 10]])"
      ]
     },
     "execution_count": 17,
     "metadata": {},
     "output_type": "execute_result"
    }
   ],
   "source": [
    "# creating 2D array\n",
    "arr2 = np.array([[2, 4, 6],[3, 5, 7],[1, 5, 10]])\n",
    "arr2"
   ]
  },
  {
   "cell_type": "markdown",
   "id": "3f921c7a-b727-4b86-808a-be90da364daf",
   "metadata": {},
   "source": [
    "### Array Attributes"
   ]
  },
  {
   "cell_type": "code",
   "execution_count": 35,
   "id": "c7ed7a6e-d28e-4998-9702-9c7c485e5fee",
   "metadata": {},
   "outputs": [
    {
     "data": {
      "text/plain": [
       "(4,)"
      ]
     },
     "execution_count": 35,
     "metadata": {},
     "output_type": "execute_result"
    }
   ],
   "source": [
    "# showing the array shape\n",
    "arr1.shape"
   ]
  },
  {
   "cell_type": "code",
   "execution_count": 23,
   "id": "47a82b3e-3360-4769-9c89-4e5b7d766ee0",
   "metadata": {},
   "outputs": [
    {
     "data": {
      "text/plain": [
       "(3, 3)"
      ]
     },
     "execution_count": 23,
     "metadata": {},
     "output_type": "execute_result"
    }
   ],
   "source": [
    "arr2.shape"
   ]
  },
  {
   "cell_type": "code",
   "execution_count": 33,
   "id": "f95f91cf-8cdb-4e2a-b68f-b6673735c3fa",
   "metadata": {},
   "outputs": [
    {
     "data": {
      "text/plain": [
       "4"
      ]
     },
     "execution_count": 33,
     "metadata": {},
     "output_type": "execute_result"
    }
   ],
   "source": [
    "#showing the array size\n",
    "arr1.size"
   ]
  },
  {
   "cell_type": "code",
   "execution_count": 27,
   "id": "05e4d3d7-1a1a-4e71-ada8-83c77d016a10",
   "metadata": {},
   "outputs": [
    {
     "data": {
      "text/plain": [
       "9"
      ]
     },
     "execution_count": 27,
     "metadata": {},
     "output_type": "execute_result"
    }
   ],
   "source": [
    "arr2.size"
   ]
  },
  {
   "cell_type": "code",
   "execution_count": 37,
   "id": "b6e814b4-12a0-49c5-a18c-ede896a0049c",
   "metadata": {},
   "outputs": [
    {
     "data": {
      "text/plain": [
       "1"
      ]
     },
     "execution_count": 37,
     "metadata": {},
     "output_type": "execute_result"
    }
   ],
   "source": [
    "# showing the number of dimensions\n",
    "arr1.ndim"
   ]
  },
  {
   "cell_type": "code",
   "execution_count": 31,
   "id": "b7eb477d-0614-44ef-be2a-996b4c4d1cc5",
   "metadata": {},
   "outputs": [
    {
     "data": {
      "text/plain": [
       "2"
      ]
     },
     "execution_count": 31,
     "metadata": {},
     "output_type": "execute_result"
    }
   ],
   "source": [
    "arr2.ndim"
   ]
  },
  {
   "cell_type": "markdown",
   "id": "0e994081-77e8-4991-9396-03581a69154c",
   "metadata": {},
   "source": [
    "### Creating Arrays using Built-in Functions"
   ]
  },
  {
   "cell_type": "code",
   "execution_count": 47,
   "id": "bc79a9a3-e13d-4477-bd07-280860cd2378",
   "metadata": {},
   "outputs": [
    {
     "data": {
      "text/plain": [
       "array([[0., 0., 0.],\n",
       "       [0., 0., 0.],\n",
       "       [0., 0., 0.],\n",
       "       [0., 0., 0.]])"
      ]
     },
     "execution_count": 47,
     "metadata": {},
     "output_type": "execute_result"
    }
   ],
   "source": [
    "# Array filled with zeros as elements\n",
    "np.zeros((4, 3))"
   ]
  },
  {
   "cell_type": "code",
   "execution_count": 49,
   "id": "8ce74357-55d6-466d-bdd4-8029ca0ae33e",
   "metadata": {},
   "outputs": [
    {
     "data": {
      "text/plain": [
       "array([[1., 1., 1.],\n",
       "       [1., 1., 1.],\n",
       "       [1., 1., 1.],\n",
       "       [1., 1., 1.]])"
      ]
     },
     "execution_count": 49,
     "metadata": {},
     "output_type": "execute_result"
    }
   ],
   "source": [
    "# Array filled with one as element\n",
    "np.ones((4, 3))"
   ]
  },
  {
   "cell_type": "code",
   "execution_count": 55,
   "id": "55de10fa-8f78-41e7-a502-c4e7c2fe542b",
   "metadata": {},
   "outputs": [
    {
     "data": {
      "text/plain": [
       "array([[1., 0., 0., 0.],\n",
       "       [0., 1., 0., 0.],\n",
       "       [0., 0., 1., 0.],\n",
       "       [0., 0., 0., 1.]])"
      ]
     },
     "execution_count": 55,
     "metadata": {},
     "output_type": "execute_result"
    }
   ],
   "source": [
    "# identity matrix\n",
    "# The diagonal is 1 and every other element are zeros\n",
    "np.eye(4, 4)"
   ]
  },
  {
   "cell_type": "markdown",
   "id": "7da78c61-d6d1-4d3e-9149-804b619f7603",
   "metadata": {},
   "source": [
    "### Creating Arrays using Random Functions"
   ]
  },
  {
   "cell_type": "code",
   "execution_count": 60,
   "id": "5d8454da-2691-4caa-bbc4-8494234df2c2",
   "metadata": {},
   "outputs": [
    {
     "data": {
      "text/plain": [
       "array([0.55607005, 0.31053623, 0.83373948, 0.43643494, 0.16704142])"
      ]
     },
     "execution_count": 60,
     "metadata": {},
     "output_type": "execute_result"
    }
   ],
   "source": [
    "# Creating arrays of float using random functions\n",
    "# Numbers are generated randomly\n",
    "# Can be used for arrays of different dimensions\n",
    "np.random.random(5)"
   ]
  },
  {
   "cell_type": "code",
   "execution_count": 62,
   "id": "a6ee442f-59e8-4c39-8b6d-04110b9af0bd",
   "metadata": {},
   "outputs": [
    {
     "data": {
      "text/plain": [
       "array([0.61760335, 0.56108081, 0.47835542, 0.36953746, 0.39760208])"
      ]
     },
     "execution_count": 62,
     "metadata": {},
     "output_type": "execute_result"
    }
   ],
   "source": [
    "# Getting randoms numbers but only for 1 dimesion\n",
    "np.random.rand(5)"
   ]
  },
  {
   "cell_type": "code",
   "execution_count": 64,
   "id": "b1d46998-4860-459b-a7b9-767f2ece13b9",
   "metadata": {},
   "outputs": [
    {
     "data": {
      "text/plain": [
       "array([[0.15847866, 0.97179998, 0.92107431],\n",
       "       [0.21782588, 0.93949294, 0.01071811],\n",
       "       [0.22558458, 0.51837668, 0.41837449]])"
      ]
     },
     "execution_count": 64,
     "metadata": {},
     "output_type": "execute_result"
    }
   ],
   "source": [
    "np.random.random((3, 3))"
   ]
  },
  {
   "cell_type": "code",
   "execution_count": 66,
   "id": "b02d3b3d-a841-4b4c-8f42-007aa926f82c",
   "metadata": {},
   "outputs": [
    {
     "data": {
      "text/plain": [
       "array([[3, 2, 9],\n",
       "       [9, 9, 8],\n",
       "       [1, 7, 4]])"
      ]
     },
     "execution_count": 66,
     "metadata": {},
     "output_type": "execute_result"
    }
   ],
   "source": [
    "# Getting random numbers within a certain range\n",
    "# randint is an integer\n",
    "np.random.randint(1, 10, (3, 3))"
   ]
  },
  {
   "cell_type": "markdown",
   "id": "7d424b0e-cfed-4f2a-8674-41dd79237763",
   "metadata": {},
   "source": [
    "### Seed Reproducibility\n",
    "it is used to replicate a random number. Hence, setting the same seed value ensures identical output"
   ]
  },
  {
   "cell_type": "code",
   "execution_count": 70,
   "id": "d6bf4a17-b311-440b-b2c6-a57283677a97",
   "metadata": {},
   "outputs": [
    {
     "data": {
      "text/plain": [
       "array([[ 5, 63, 91, 16, 62],\n",
       "       [24, 45, 51,  9, 29],\n",
       "       [ 5, 90, 32, 70,  2],\n",
       "       [40,  4, 89, 56,  4]])"
      ]
     },
     "execution_count": 70,
     "metadata": {},
     "output_type": "execute_result"
    }
   ],
   "source": [
    "np.random.seed(25)\n",
    "np.random.randint(1, 100, (4, 5))"
   ]
  },
  {
   "cell_type": "markdown",
   "id": "cf66e73a-9c5e-45e0-a17d-f257890bc1e3",
   "metadata": {},
   "source": [
    "### Basic Array Operations"
   ]
  },
  {
   "cell_type": "code",
   "execution_count": 73,
   "id": "c76f88a9-7a11-4006-9bd6-bf31849da0dc",
   "metadata": {},
   "outputs": [
    {
     "data": {
      "text/plain": [
       "array([15, 30, 45, 60])"
      ]
     },
     "execution_count": 73,
     "metadata": {},
     "output_type": "execute_result"
    }
   ],
   "source": [
    "arr1"
   ]
  },
  {
   "cell_type": "code",
   "execution_count": 155,
   "id": "7432307d-ae94-4f16-b446-fde475670397",
   "metadata": {},
   "outputs": [
    {
     "data": {
      "text/plain": [
       "array([25, 50, 55, 70])"
      ]
     },
     "execution_count": 155,
     "metadata": {},
     "output_type": "execute_result"
    }
   ],
   "source": [
    "# Adding value to the array - Broadcasting\n",
    "# Converting to an array if you want to add to the value\n",
    "arr1 + 10"
   ]
  },
  {
   "cell_type": "code",
   "execution_count": 79,
   "id": "d55e8f61-bb35-42eb-95d2-c92a02bc3718",
   "metadata": {},
   "outputs": [],
   "source": [
    "arr3 = np.array([12, 24, 36, 48])"
   ]
  },
  {
   "cell_type": "code",
   "execution_count": 81,
   "id": "a3f93fa7-abcc-4851-b3b0-9621189da2bf",
   "metadata": {},
   "outputs": [
    {
     "data": {
      "text/plain": [
       "array([ 27,  54,  81, 108])"
      ]
     },
     "execution_count": 81,
     "metadata": {},
     "output_type": "execute_result"
    }
   ],
   "source": [
    "arr1 + arr3"
   ]
  },
  {
   "cell_type": "code",
   "execution_count": 83,
   "id": "6d86b57d-bd26-4a75-8ec1-22cd7b0acbe4",
   "metadata": {},
   "outputs": [
    {
     "data": {
      "text/plain": [
       "array([ 180,  720, 1620, 2880])"
      ]
     },
     "execution_count": 83,
     "metadata": {},
     "output_type": "execute_result"
    }
   ],
   "source": [
    "# Multiplication of arrays\n",
    "arr1 * arr3"
   ]
  },
  {
   "cell_type": "code",
   "execution_count": 87,
   "id": "0441dd40-0e7b-482f-9d1b-9918678c3d63",
   "metadata": {},
   "outputs": [
    {
     "data": {
      "text/plain": [
       "array([[2. , 4. , 6. , 8. ],\n",
       "       [1. , 3. , 5. , 7. ],\n",
       "       [3.4, 6.8, 9.4, 9.2]])"
      ]
     },
     "execution_count": 87,
     "metadata": {},
     "output_type": "execute_result"
    }
   ],
   "source": [
    "arr4 = np.array([[2, 4, 6, 8], [1, 3, 5, 7], [3.4, 6.8, 9.4, 9.2]])\n",
    "arr4"
   ]
  },
  {
   "cell_type": "code",
   "execution_count": 89,
   "id": "ee752384-e4c5-4a02-b4cc-4c54ea516fe7",
   "metadata": {},
   "outputs": [],
   "source": [
    "row = [2, 4, 6, 8]"
   ]
  },
  {
   "cell_type": "code",
   "execution_count": 91,
   "id": "cd7c7738-c7a1-41bc-8711-fa9874e80492",
   "metadata": {},
   "outputs": [
    {
     "data": {
      "text/plain": [
       "array([[ 4. ,  8. , 12. , 16. ],\n",
       "       [ 3. ,  7. , 11. , 15. ],\n",
       "       [ 5.4, 10.8, 15.4, 17.2]])"
      ]
     },
     "execution_count": 91,
     "metadata": {},
     "output_type": "execute_result"
    }
   ],
   "source": [
    "arr4 + row"
   ]
  },
  {
   "cell_type": "markdown",
   "id": "37f795b9-7a3f-4130-b896-2cad06f0d900",
   "metadata": {},
   "source": [
    "### Array Indexing and Slicing\n",
    "Array indexing and slicing in numpy are powerful tools for manipulating subsets of data in arrays"
   ]
  },
  {
   "cell_type": "code",
   "execution_count": 96,
   "id": "679f8c03-ccbc-490d-8d7e-d7fb4ec4594f",
   "metadata": {},
   "outputs": [
    {
     "data": {
      "text/plain": [
       "60"
      ]
     },
     "execution_count": 96,
     "metadata": {},
     "output_type": "execute_result"
    }
   ],
   "source": [
    "# Indexing in array\n",
    "arr1[3]"
   ]
  },
  {
   "cell_type": "code",
   "execution_count": 98,
   "id": "6e6c4c1a-0950-4bad-8ff1-020127a3b166",
   "metadata": {},
   "outputs": [
    {
     "data": {
      "text/plain": [
       "array([15, 30, 45])"
      ]
     },
     "execution_count": 98,
     "metadata": {},
     "output_type": "execute_result"
    }
   ],
   "source": [
    "#Slicing in array\n",
    "arr1[:3]"
   ]
  },
  {
   "cell_type": "code",
   "execution_count": 102,
   "id": "059368e1-7605-45b3-8b0b-bfad5a2b4180",
   "metadata": {},
   "outputs": [
    {
     "data": {
      "text/plain": [
       "array([[2. , 4. , 6. , 8. ],\n",
       "       [1. , 3. , 5. , 7. ],\n",
       "       [3.4, 6.8, 9.4, 9.2]])"
      ]
     },
     "execution_count": 102,
     "metadata": {},
     "output_type": "execute_result"
    }
   ],
   "source": [
    "arr4"
   ]
  },
  {
   "cell_type": "code",
   "execution_count": 108,
   "id": "350ef5ee-519a-485d-be5e-cc77dd92cd60",
   "metadata": {},
   "outputs": [
    {
     "data": {
      "text/plain": [
       "array([2., 4., 6., 8.])"
      ]
     },
     "execution_count": 108,
     "metadata": {},
     "output_type": "execute_result"
    }
   ],
   "source": [
    "# The first rows and all the column\n",
    "arr4[0, :]"
   ]
  },
  {
   "cell_type": "code",
   "execution_count": 110,
   "id": "fadc08b4-5f59-4e77-9f8c-2420780eac25",
   "metadata": {},
   "outputs": [
    {
     "data": {
      "text/plain": [
       "array([[2., 4., 6., 8.],\n",
       "       [1., 3., 5., 7.]])"
      ]
     },
     "execution_count": 110,
     "metadata": {},
     "output_type": "execute_result"
    }
   ],
   "source": [
    "# Getting the first and the second row and all the column\n",
    "arr4[0:2, :]"
   ]
  },
  {
   "cell_type": "markdown",
   "id": "2775d682-ec36-4711-8b88-b6739a14a08b",
   "metadata": {},
   "source": [
    "### Modifying\n",
    "This is changing of element in an array"
   ]
  },
  {
   "cell_type": "code",
   "execution_count": 113,
   "id": "421c2463-1dcd-4f91-8629-031394cf494f",
   "metadata": {},
   "outputs": [
    {
     "data": {
      "text/plain": [
       "array([15, 30, 45, 60])"
      ]
     },
     "execution_count": 113,
     "metadata": {},
     "output_type": "execute_result"
    }
   ],
   "source": [
    "arr1"
   ]
  },
  {
   "cell_type": "code",
   "execution_count": 117,
   "id": "62f26c5c-f3a3-4e7d-80ca-27310bf1d804",
   "metadata": {},
   "outputs": [
    {
     "data": {
      "text/plain": [
       "array([15, 40, 45, 60])"
      ]
     },
     "execution_count": 117,
     "metadata": {},
     "output_type": "execute_result"
    }
   ],
   "source": [
    "arr1[1] = 40\n",
    "arr1"
   ]
  },
  {
   "cell_type": "markdown",
   "id": "8264cb7b-0a24-4c2c-9202-dc9cbb2a127a",
   "metadata": {},
   "source": [
    "### Array Manipulation\n",
    "Array manipulation in NumPy refers to modifying arrays to fit desired shapes, sizes, or structures. This includes operations like reshaping, flattening, transposing, and concatenating arrays, among others. Here's a detailed explanation of reshaping, flattening, and transposing:"
   ]
  },
  {
   "cell_type": "markdown",
   "id": "921df3e9-bf42-4385-b144-2afca988f3d5",
   "metadata": {},
   "source": [
    "##### Reshaping\n",
    "Reshaping involves changing the shape (dimensions) of an array without altering its data. The total number of elements must remain the same."
   ]
  },
  {
   "cell_type": "code",
   "execution_count": 125,
   "id": "c952b090-f091-4b0a-abc1-d35b55c9b3c0",
   "metadata": {},
   "outputs": [
    {
     "data": {
      "text/plain": [
       "10"
      ]
     },
     "execution_count": 125,
     "metadata": {},
     "output_type": "execute_result"
    }
   ],
   "source": [
    "ary = np.array([0, 1, 2, 3, 4, 5, 6, 7, 8, 9])\n",
    "ary.size"
   ]
  },
  {
   "cell_type": "code",
   "execution_count": 127,
   "id": "09456ac7-89c7-4a65-846e-d2cefdc921a9",
   "metadata": {},
   "outputs": [
    {
     "data": {
      "text/plain": [
       "array([[0, 1, 2, 3, 4],\n",
       "       [5, 6, 7, 8, 9]])"
      ]
     },
     "execution_count": 127,
     "metadata": {},
     "output_type": "execute_result"
    }
   ],
   "source": [
    "# reshaping the array\n",
    "reshaped_ary = ary.reshape(2, 5)\n",
    "reshaped_ary"
   ]
  },
  {
   "cell_type": "markdown",
   "id": "b3adfe05-541d-4414-b785-a066db31e0db",
   "metadata": {},
   "source": [
    "##### Transposing\n",
    "Transposing flips an array's axes. For example, rows become columns, and vice versa. This is especially useful for matrix operations and reshaping multi-dimensional data."
   ]
  },
  {
   "cell_type": "code",
   "execution_count": 130,
   "id": "56c0f2d0-2f6b-436f-a907-957e86ebf7f1",
   "metadata": {},
   "outputs": [
    {
     "data": {
      "text/plain": [
       "array([[0, 5],\n",
       "       [1, 6],\n",
       "       [2, 7],\n",
       "       [3, 8],\n",
       "       [4, 9]])"
      ]
     },
     "execution_count": 130,
     "metadata": {},
     "output_type": "execute_result"
    }
   ],
   "source": [
    "# Transposing the array\n",
    "reshaped_ary.T"
   ]
  },
  {
   "cell_type": "markdown",
   "id": "3ab93de4-16dc-4702-828f-8ed46f58cd75",
   "metadata": {},
   "source": [
    "##### Flattening\n",
    "Flattening reduces a multi-dimensional array to a 1D array. This operation is commonly used when you need to perform operations that require a single sequence of elements."
   ]
  },
  {
   "cell_type": "code",
   "execution_count": 133,
   "id": "88d8e858-6503-4978-be41-3f8f68b2e69d",
   "metadata": {},
   "outputs": [
    {
     "data": {
      "text/plain": [
       "array([0, 1, 2, 3, 4, 5, 6, 7, 8, 9])"
      ]
     },
     "execution_count": 133,
     "metadata": {},
     "output_type": "execute_result"
    }
   ],
   "source": [
    "# flatten it back to it original shape\n",
    "reshaped_ary.flatten()"
   ]
  },
  {
   "cell_type": "markdown",
   "id": "67224ed5-92c8-429a-8d84-7b5a7fd12fa1",
   "metadata": {},
   "source": [
    "##### Splitting\n",
    "Array Splitting in NumPy refers to dividing an array into multiple subarrays. This is useful when you need to process or analyze parts of an array independently.\n",
    "\n",
    "Splitting Methods in NumPy\n",
    "- `np.split`: General-purpose splitting based on specified indices.\n",
    "- `np.array_split`: Allows uneven splitting.\n",
    "- `np.hsplit`: Splits along columns (horizontal split for 2D arrays).\n",
    "- `np.vsplit`: Splits along rows (vertical split for 2D arrays).\n",
    "- `np.dsplit`: Splits along the depth (third axis) for 3D arrays."
   ]
  },
  {
   "cell_type": "code",
   "execution_count": 137,
   "id": "7ac2a42f-47bc-4688-a916-53ecb1cba446",
   "metadata": {},
   "outputs": [
    {
     "data": {
      "text/plain": [
       "[array([0, 1]), array([2, 3]), array([4, 5]), array([6, 7]), array([8, 9])]"
      ]
     },
     "execution_count": 137,
     "metadata": {},
     "output_type": "execute_result"
    }
   ],
   "source": [
    "# Splitting the array\n",
    "np.split(ary, 5)"
   ]
  },
  {
   "cell_type": "markdown",
   "id": "0c60475c-b6ba-443a-85cb-30888ccaea44",
   "metadata": {},
   "source": [
    "##### Concatenating\n",
    "In NumPy, concatenation refers to joining two or more arrays along a specified axis. The arrays must have compatible shapes along the axis being concatenated."
   ]
  },
  {
   "cell_type": "code",
   "execution_count": 140,
   "id": "49931865-4784-45ec-af69-dd4df2329526",
   "metadata": {},
   "outputs": [
    {
     "data": {
      "text/plain": [
       "array([2, 4, 6, 8])"
      ]
     },
     "execution_count": 140,
     "metadata": {},
     "output_type": "execute_result"
    }
   ],
   "source": [
    "arry = np.array([2, 4, 6, 8])\n",
    "arry"
   ]
  },
  {
   "cell_type": "code",
   "execution_count": 142,
   "id": "13f78f23-a4b3-4a41-867e-232354b6dde9",
   "metadata": {},
   "outputs": [
    {
     "data": {
      "text/plain": [
       "array([3, 6, 8, 1])"
      ]
     },
     "execution_count": 142,
     "metadata": {},
     "output_type": "execute_result"
    }
   ],
   "source": [
    "rays = np.array([3, 6, 8, 1])\n",
    "rays"
   ]
  },
  {
   "cell_type": "code",
   "execution_count": 144,
   "id": "997a17ce-f554-4556-9f3e-d1dc1bccce3a",
   "metadata": {},
   "outputs": [
    {
     "data": {
      "text/plain": [
       "array([2, 4, 6, 8, 3, 6, 8, 1])"
      ]
     },
     "execution_count": 144,
     "metadata": {},
     "output_type": "execute_result"
    }
   ],
   "source": [
    "# Concatenating\n",
    "np.concatenate((arry, rays))"
   ]
  },
  {
   "cell_type": "markdown",
   "id": "06206a6c-1843-4498-b0fe-390120f5c751",
   "metadata": {},
   "source": [
    "### Mathematical Operations"
   ]
  },
  {
   "cell_type": "code",
   "execution_count": 147,
   "id": "2a0c4034-8a06-4262-94d7-4c2574559bc5",
   "metadata": {},
   "outputs": [],
   "source": [
    "x = np.array([2, 4, 6, 8])"
   ]
  },
  {
   "cell_type": "code",
   "execution_count": 149,
   "id": "82b78498-e514-4bb0-ac6b-f84a2d8dab3e",
   "metadata": {},
   "outputs": [
    {
     "data": {
      "text/plain": [
       "array([1.41421356, 2.        , 2.44948974, 2.82842712])"
      ]
     },
     "execution_count": 149,
     "metadata": {},
     "output_type": "execute_result"
    }
   ],
   "source": [
    "# Finding the square root of an array\n",
    "np.sqrt(x)"
   ]
  },
  {
   "cell_type": "code",
   "execution_count": 153,
   "id": "0d0146fd-240f-4a28-893e-ff4fd8a47146",
   "metadata": {},
   "outputs": [
    {
     "data": {
      "text/plain": [
       "20"
      ]
     },
     "execution_count": 153,
     "metadata": {},
     "output_type": "execute_result"
    }
   ],
   "source": [
    "# Sum of the array\n",
    "x.sum()"
   ]
  },
  {
   "cell_type": "code",
   "execution_count": null,
   "id": "bb12b859-f7d8-40a0-a88b-0b61351eb0a2",
   "metadata": {},
   "outputs": [],
   "source": []
  }
 ],
 "metadata": {
  "kernelspec": {
   "display_name": "Python 3 (ipykernel)",
   "language": "python",
   "name": "python3"
  },
  "language_info": {
   "codemirror_mode": {
    "name": "ipython",
    "version": 3
   },
   "file_extension": ".py",
   "mimetype": "text/x-python",
   "name": "python",
   "nbconvert_exporter": "python",
   "pygments_lexer": "ipython3",
   "version": "3.12.7"
  }
 },
 "nbformat": 4,
 "nbformat_minor": 5
}
